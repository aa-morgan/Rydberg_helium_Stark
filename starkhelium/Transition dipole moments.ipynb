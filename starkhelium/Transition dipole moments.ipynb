{
 "cells": [
  {
   "cell_type": "code",
   "execution_count": 53,
   "metadata": {
    "collapsed": false
   },
   "outputs": [],
   "source": [
    "import numpy as np\n",
    "import matplotlib.pyplot as plt\n",
    "%matplotlib inline\n",
    "from starkhelium import *\n",
    "from tqdm import trange, tqdm\n",
    "import os\n",
    "from scipy.constants import h, hbar, c, alpha, m_e, e, epsilon_0, atomic_mass, pi, physical_constants\n",
    "a_0 = physical_constants['Bohr radius'][0]\n",
    "E_h = physical_constants['Hartree energy'][0]"
   ]
  },
  {
   "cell_type": "code",
   "execution_count": 3,
   "metadata": {
    "collapsed": false
   },
   "outputs": [],
   "source": [
    "def get_sorted_nlm_vals(nmin, nmax):\n",
    "    \"\"\" n, l and m vals for each matrix column, using range n_min to n_max.\n",
    "    \"\"\"\n",
    "    n_rng = np.arange(nmin, nmax + 1)\n",
    "    n_vals = np.array([], dtype='int32')\n",
    "    l_vals = np.array([], dtype='int32')\n",
    "    m_vals = np.array([], dtype='int32')\n",
    "    for n in n_rng:\n",
    "        l_rng = np.arange(0, n)\n",
    "        for l in l_rng:\n",
    "            m_rng = np.array( [[-i,i] for i in np.arange(l,0,-1)], dtype='int32' ).reshape(-1)\n",
    "            m_rng = np.append(m_rng, 0)\n",
    "            n_vals = np.append(n_vals, np.array(np.zeros_like(m_rng) + n))\n",
    "            l_vals = np.append(l_vals, np.array(np.zeros_like(m_rng) + l))\n",
    "            m_vals = np.append(m_vals, m_rng)\n",
    "    return n_vals, l_vals, m_vals"
   ]
  },
  {
   "cell_type": "code",
   "execution_count": 4,
   "metadata": {
    "collapsed": false
   },
   "outputs": [],
   "source": [
    "def reorder_indicies(n_vals_1, L_vals_1, m_vals_1, n_vals_2, L_vals_2, m_vals_2):\n",
    "    indicies = np.array([], dtype='int32')\n",
    "    for i in range(len(n_vals_1)):\n",
    "        for j in range(len(n_vals_2)):\n",
    "            if n_vals_1[i] == n_vals_2[j] and L_vals_1[i] == L_vals_2[j] and m_vals_1[i] == m_vals_2[j]:\n",
    "                indicies = np.append(indicies, j)   \n",
    "                break\n",
    "    return indicies"
   ]
  },
  {
   "cell_type": "code",
   "execution_count": 5,
   "metadata": {
    "collapsed": false
   },
   "outputs": [
    {
     "data": {
      "text/plain": [
       "array([0, 1, 3, 2, 4, 6, 8, 7, 5])"
      ]
     },
     "execution_count": 5,
     "metadata": {},
     "output_type": "execute_result"
    }
   ],
   "source": [
    "nmin = 3\n",
    "nmax = 3\n",
    "reorder_indicies( *(get_nlm_vals(nmin, nmax)), *(get_sorted_nlm_vals(nmin, nmax)) )"
   ]
  },
  {
   "cell_type": "code",
   "execution_count": 6,
   "metadata": {
    "collapsed": false
   },
   "outputs": [
    {
     "data": {
      "text/plain": [
       "491.5268274202669"
      ]
     },
     "execution_count": 6,
     "metadata": {},
     "output_type": "execute_result"
    }
   ],
   "source": [
    "# Between two nlm states\n",
    "transition_dipole_moment = stark_int(n_1=50, n_2=51, l_1=0, l_2=1, m_1=0, m_2=0)\n",
    "transition_dipole_moment"
   ]
  },
  {
   "cell_type": "code",
   "execution_count": 7,
   "metadata": {
    "collapsed": false
   },
   "outputs": [
    {
     "name": "stderr",
     "output_type": "stream",
     "text": [
      "calculate Stark terms: 100%|█████████████████████| 9/9 [00:00<00:00, 12.72it/s]\n"
     ]
    }
   ],
   "source": [
    "# In an electric field (with B=0)\n",
    "# quantum numbers\n",
    "nmin = 3\n",
    "nmax = 3\n",
    "S = 1\n",
    "n_vals, L_vals, m_vals = get_nlm_vals(nmin, nmax)\n",
    "J_vals = get_J_vals(S, L_vals, 1)\n",
    "# quantum defects\n",
    "neff = n_vals - get_qd(S, n_vals, L_vals, J_vals)\n",
    "# energy levels\n",
    "En = W_n(S, n_vals, L_vals, J_vals)\n",
    "# field orientation\n",
    "field_orientation = 'parallel'\n",
    "# field-free Hamiltonian\n",
    "H_0 = np.diag(En)\n",
    "# find the off-diagonal terms of the Stark interaction matrix\n",
    "mat_S = stark_matrix(neff, L_vals, m_vals, b_field=True, field_orientation=field_orientation)"
   ]
  },
  {
   "cell_type": "code",
   "execution_count": 8,
   "metadata": {
    "collapsed": false
   },
   "outputs": [
    {
     "data": {
      "text/plain": [
       "array([[ 0.        ,  6.4980455 ,  6.4980455 , -6.4980455 ,  0.        ,\n",
       "         0.        ,  0.        ,  0.        ,  0.        ],\n",
       "       [ 6.4980455 ,  0.        ,  0.        ,  0.        ,  6.42224398,\n",
       "         4.54121227, -2.62187013,  0.        ,  0.        ],\n",
       "       [ 6.4980455 ,  0.        ,  0.        ,  0.        ,  0.        ,\n",
       "         4.54121227,  5.24374025, -4.54121227,  0.        ],\n",
       "       [-6.4980455 ,  0.        ,  0.        ,  0.        ,  0.        ,\n",
       "         0.        ,  2.62187013,  4.54121227, -6.42224398],\n",
       "       [ 0.        ,  6.42224398,  0.        ,  0.        ,  0.        ,\n",
       "         0.        ,  0.        ,  0.        ,  0.        ],\n",
       "       [ 0.        ,  4.54121227,  4.54121227,  0.        ,  0.        ,\n",
       "         0.        ,  0.        ,  0.        ,  0.        ],\n",
       "       [ 0.        , -2.62187013,  5.24374025,  2.62187013,  0.        ,\n",
       "         0.        ,  0.        ,  0.        ,  0.        ],\n",
       "       [ 0.        ,  0.        , -4.54121227,  4.54121227,  0.        ,\n",
       "         0.        ,  0.        ,  0.        ,  0.        ],\n",
       "       [ 0.        ,  0.        ,  0.        , -6.42224398,  0.        ,\n",
       "         0.        ,  0.        ,  0.        ,  0.        ]])"
      ]
     },
     "execution_count": 8,
     "metadata": {},
     "output_type": "execute_result"
    }
   ],
   "source": [
    "mat_S"
   ]
  },
  {
   "cell_type": "code",
   "execution_count": 8,
   "metadata": {
    "collapsed": false
   },
   "outputs": [
    {
     "name": "stderr",
     "output_type": "stream",
     "text": [
      "diagonalise Hamiltonian: 100%|████████████| 101/101 [00:00<00:00, 11221.85it/s]\n"
     ]
    }
   ],
   "source": [
    "# specify the electric field\n",
    "field = np.linspace(0.00, 10**7, 101) # V /cm\n",
    "field_au = field * 100 * e * a_0 / En_h\n",
    "# specify the magnetic field (in Telsa)\n",
    "B_z = 0.001E-3\n",
    "# (in atomic units)\n",
    "B_z_au = B_z / (2.35*10**5)\n",
    "# Zeeman interaction Hamiltonian\n",
    "H_Z = np.diag(E_zeeman(m_vals, B_z_au))\n",
    "# diagonalise for each field\n",
    "eig_vals, eig_vecs = stark_map_vec(H_0, mat_S, field_au, H_Z=H_Z)"
   ]
  },
  {
   "cell_type": "code",
   "execution_count": 9,
   "metadata": {
    "collapsed": false
   },
   "outputs": [],
   "source": [
    "# Re-order eig_vals and eig_vecs\n",
    "indicies = reorder_indicies( *(get_nlm_vals(nmin, nmax)), *(get_sorted_nlm_vals(nmin, nmax)) )\n",
    "eig_vecs_ord = eig_vecs[:,indicies]\n",
    "eig_vecs_ord = eig_vecs_ord[:,:,indicies]\n",
    "eig_vals_ord = eig_vals[:,indicies]"
   ]
  },
  {
   "cell_type": "code",
   "execution_count": 10,
   "metadata": {
    "collapsed": false,
    "scrolled": true
   },
   "outputs": [
    {
     "data": {
      "text/plain": [
       "[<matplotlib.lines.Line2D at 0x94a8ef0>,\n",
       " <matplotlib.lines.Line2D at 0x93e0828>,\n",
       " <matplotlib.lines.Line2D at 0x93e0da0>]"
      ]
     },
     "execution_count": 10,
     "metadata": {},
     "output_type": "execute_result"
    },
    {
     "data": {
      "image/png": "[encoded data removed]",
      "text/plain": [
       "<matplotlib.figure.Figure at 0x8eadeb8>"
      ]
     },
     "metadata": {},
     "output_type": "display_data"
    }
   ],
   "source": [
    "plt.plot(field, np.abs(eig_vecs_ord[:,0,[0,2,6]]))"
   ]
  },
  {
   "cell_type": "code",
   "execution_count": 11,
   "metadata": {
    "collapsed": false
   },
   "outputs": [
    {
     "data": {
      "text/plain": [
       "[<matplotlib.lines.Line2D at 0x90e4a58>,\n",
       " <matplotlib.lines.Line2D at 0x90e4dd8>]"
      ]
     },
     "execution_count": 11,
     "metadata": {},
     "output_type": "execute_result"
    },
    {
     "data": {
      "image/png": "[encoded data removed]",
      "text/plain": [
       "<matplotlib.figure.Figure at 0x8eadba8>"
      ]
     },
     "metadata": {},
     "output_type": "display_data"
    }
   ],
   "source": [
    "plt.plot(field, np.abs(eig_vecs_ord[:,7,[3,7]]))"
   ]
  },
  {
   "cell_type": "markdown",
   "metadata": {},
   "source": [
    " nval = nmin;                            % value of n\n",
    " mval = 0;                            % initial value of m\n",
    " dm = 1;\n",
    " \n",
    "ellval = 0:1:nval-1;                 % values of l \n",
    " qval = ellval.*0;                    % set of quantum defects\n",
    "\n",
    "    for idx1 = 1:length(ellval)       % The quantum defects for all values of l\n",
    "        qval(idx1) = fn_He_triplet_defects_Drake(nval,ellval(idx1));\n",
    "    end\n",
    "    \n",
    "TM = zeros(length(ellval),3);                              % transition moments\n",
    "TMidx = 0;\n",
    "\n",
    "for idx2 = 1:length(ellval)           % range of possible ell values of initial state\n",
    "        for idx3 = 1:length(ellval)   % range of possible ell values of final state\n",
    "            if (abs(ellval(idx3) - ellval(idx2)) == 1) && (ellval(idx3) >= mval+dm)\n",
    "                TMidx = TMidx + 1;\n",
    "                TM(TMidx,1) = ellval(idx2);\n",
    "                TM(TMidx,2) = ellval(idx3);\n",
    "                TM(TMidx,3) = fn_angint(ellval(idx2),ellval(idx3),mval,mval+dm)*fn_numerov_He(nval-qval(idx2),nval-qval(idx3),ellval(idx2),ellval(idx3),1,corepole);\n",
    "            end\n",
    "        end\n",
    "end"
   ]
  },
  {
   "cell_type": "code",
   "execution_count": 20,
   "metadata": {
    "collapsed": false
   },
   "outputs": [
    {
     "data": {
      "text/plain": [
       "array([[ 0.        ,  1.        , -7.39062727],\n",
       "       [ 1.        ,  2.        , -4.50281829],\n",
       "       [ 2.        ,  1.        ,  2.59970335]])"
      ]
     },
     "execution_count": 20,
     "metadata": {},
     "output_type": "execute_result"
    }
   ],
   "source": [
    "ellval = np.arange(0, nmin)\n",
    "TM = np.zeros([len(ellval), 3])\n",
    "TMidx = 0\n",
    "\n",
    "for idx2 in np.arange(0, len(ellval)):\n",
    "    for idx3 in np.arange(0, len(ellval)):\n",
    "        if ( np.abs(ellval[idx2] - ellval[idx3]) == 1 ) and ( ellval[idx3] >= 1 ):\n",
    "            \n",
    "            TM[TMidx, 0] = ellval[idx2]\n",
    "            TM[TMidx, 1] = ellval[idx3]\n",
    "            TM[TMidx, 2] = stark_int(nmin, nmin, ellval[idx2], ellval[idx3], 0, 1)\n",
    "            TMidx += 1\n",
    "TM"
   ]
  },
  {
   "cell_type": "code",
   "execution_count": 33,
   "metadata": {
    "collapsed": false
   },
   "outputs": [
    {
     "name": "stdout",
     "output_type": "stream",
     "text": [
      "from: 0\n",
      "to: 3\n",
      "from: 0\n",
      "to: 7\n",
      "from: 2\n",
      "to: 3\n",
      "from: 2\n",
      "to: 7\n",
      "from: 6\n",
      "to: 3\n",
      "from: 6\n",
      "to: 7\n"
     ]
    },
    {
     "data": {
      "text/plain": [
       "array([ 0.,  0.,  0.,  0.,  0.,  0.,  0.,  0.,  0.,  0.,  0.,  0.,  0.,\n",
       "        0.,  0.,  0.,  0.,  0.,  0.,  0.,  0.,  0.,  0.,  0.,  0.,  0.,\n",
       "        0.,  0.,  0.,  0.,  0.,  0.,  0.,  0.,  0.,  0.,  0.,  0.,  0.,\n",
       "        0.,  0.,  0.,  0.,  0.,  0.,  0.,  0.,  0.,  0.,  0.,  0.,  0.,\n",
       "        0.,  0.,  0.,  0.,  0.,  0.,  0.,  0.,  0.,  0.,  0.,  0.,  0.,\n",
       "        0.,  0.,  0.,  0.,  0.,  0.,  0.,  0.,  0.,  0.,  0.,  0.,  0.,\n",
       "        0.,  0.,  0.,  0.,  0.,  0.,  0.,  0.,  0.,  0.,  0.,  0.,  0.,\n",
       "        0.,  0.,  0.,  0.,  0.,  0.,  0.,  0.,  0.,  0.])"
      ]
     },
     "execution_count": 33,
     "metadata": {},
     "output_type": "execute_result"
    }
   ],
   "source": [
    "I = np.zeros(len(field))\n",
    "statei = 0\n",
    "statef = 7\n",
    "\n",
    "for k, F in enumerate(field):\n",
    "    \n",
    "    Vi = eig_vecs[k,statei]\n",
    "    Vf = eig_vecs[k,statef]\n",
    "    \n",
    "    for from_i in np.where(m_vals==0)[0]:\n",
    "        \n",
    "        for to_i in np.where(m_vals==1)[0]:\n",
    "            if k==0: print('from:',from_i); print('to:',to_i)\n",
    "            if np.abs(L_vals[from_i] - L_vals[to_i]) == 1:\n",
    "                for TM_i in range(len(TM[:,0])):\n",
    "                    if (TM[TM_i,1] == from_i) and (TM[TM_i,2] == to_i):\n",
    "                        I[k] += Vi(from_i) * Vf(to_i) * TM(TM_i,3);\n",
    "I"
   ]
  },
  {
   "cell_type": "code",
   "execution_count": 28,
   "metadata": {
    "collapsed": false
   },
   "outputs": [
    {
     "data": {
      "text/plain": [
       "array([  9.99787122e-01,  -1.89630750e-08,  -1.89631405e-08,\n",
       "         2.05977284e-02,   4.37798051e-16,   8.71147201e-17,\n",
       "        -8.03796542e-10,  -8.03782417e-10,  -1.20209696e-03])"
      ]
     },
     "execution_count": 28,
     "metadata": {},
     "output_type": "execute_result"
    }
   ],
   "source": [
    "eig_vecs[1,0]"
   ]
  },
  {
   "cell_type": "markdown",
   "metadata": {},
   "source": [
    "## Transition dipole moment between two states"
   ]
  },
  {
   "cell_type": "code",
   "execution_count": 26,
   "metadata": {
    "collapsed": false
   },
   "outputs": [
    {
     "name": "stdout",
     "output_type": "stream",
     "text": [
      "State 1: \t\t n= 3 , l= 0 , m= 0\n",
      "State 2: \t\t n= 3 , l= 2 , m= -1\n"
     ]
    },
    {
     "data": {
      "text/plain": [
       "[<matplotlib.lines.Line2D at 0xa6aa5f8>]"
      ]
     },
     "execution_count": 26,
     "metadata": {},
     "output_type": "execute_result"
    },
    {
     "data": {
      "image/png": "[encoded data removed]",
      "text/plain": [
       "<matplotlib.figure.Figure at 0xa759320>"
      ]
     },
     "metadata": {},
     "output_type": "display_data"
    }
   ],
   "source": [
    "state_1 = 0\n",
    "state_2 = 5\n",
    "print('State 1: \\t\\t n=', n_vals[state_1], ', l=', L_vals[state_1], ', m=', m_vals[state_1])\n",
    "print('State 2: \\t\\t n=', n_vals[state_2], ', l=', L_vals[state_2], ', m=', m_vals[state_2])\n",
    "\n",
    "transition_dipole_moment = []\n",
    "for i, f in enumerate(field):\n",
    "    weightings = np.abs( np.outer( eig_vecs_ord[i,state_1], eig_vecs_ord[i,state_2] ) )\n",
    "    transition_dipole_moment.append( np.sum( mat_S * weightings ) )\n",
    "\n",
    "plt.plot(field, transition_dipole_moment)"
   ]
  },
  {
   "cell_type": "markdown",
   "metadata": {},
   "source": [
    "## State character of a state"
   ]
  },
  {
   "cell_type": "code",
   "execution_count": 19,
   "metadata": {
    "collapsed": false
   },
   "outputs": [
    {
     "name": "stdout",
     "output_type": "stream",
     "text": [
      "State: \t\t n= 7 , l= 0 , m= 0\n",
      "Character: \t n= 7 , l= 1 , m= 1\n"
     ]
    },
    {
     "data": {
      "text/plain": [
       "<matplotlib.text.Text at 0xa74c160>"
      ]
     },
     "execution_count": 19,
     "metadata": {},
     "output_type": "execute_result"
    },
    {
     "data": {
      "image/png": "[encoded data removed]",
      "text/plain": [
       "<matplotlib.figure.Figure at 0x9193d68>"
      ]
     },
     "metadata": {},
     "output_type": "display_data"
    }
   ],
   "source": [
    "state = 5**2 + 6**2 + 0\n",
    "character = 5**2 + 6**2 + 3\n",
    "print('State: \\t\\t n=', n_vals[state], ', l=', L_vals[state], ', m=', m_vals[state])\n",
    "print('Character: \\t n=', n_vals[character], ', l=', L_vals[character], ', m=', m_vals[character])\n",
    "\n",
    "plt.plot(field, np.abs(eig_vecs[:,state,character]**2))\n",
    "plt.xlabel('Electric field (V/cm)')\n",
    "plt.ylabel('Character')"
   ]
  },
  {
   "cell_type": "markdown",
   "metadata": {},
   "source": [
    "## Stark map"
   ]
  },
  {
   "cell_type": "code",
   "execution_count": 90,
   "metadata": {
    "collapsed": false
   },
   "outputs": [
    {
     "data": {
      "text/plain": [
       "<matplotlib.text.Text at 0xaf70f60>"
      ]
     },
     "execution_count": 90,
     "metadata": {},
     "output_type": "execute_result"
    },
    {
     "data": {
      "image/png": "[encoded data removed]",
      "text/plain": [
       "<matplotlib.figure.Figure at 0xae63198>"
      ]
     },
     "metadata": {},
     "output_type": "display_data"
    }
   ],
   "source": [
    "for i in np.arange(0, len(eig_vals[0]), 1): \n",
    "    plt.plot(field, eig_vals[:,i], '-b')\n",
    "    \n",
    "for i in np.where(m_vals==2): \n",
    "    plt.plot(field, eig_vals[:,i], '-r')\n",
    "    \n",
    "plt.xlabel('Electric field (V/cm)')\n",
    "plt.ylabel('Energy/h (cm$^-1$)')"
   ]
  },
  {
   "cell_type": "markdown",
   "metadata": {},
   "source": [
    "## L character of a state"
   ]
  },
  {
   "cell_type": "code",
   "execution_count": 21,
   "metadata": {
    "collapsed": false
   },
   "outputs": [
    {
     "name": "stdout",
     "output_type": "stream",
     "text": [
      "State: \t\t n= 7 , l= 2 , m= 0\n",
      "Character: \t\t l= 2\n"
     ]
    },
    {
     "data": {
      "text/plain": [
       "<matplotlib.text.Text at 0xb47d908>"
      ]
     },
     "execution_count": 21,
     "metadata": {},
     "output_type": "execute_result"
    },
    {
     "data": {
      "image/png": "[encoded data removed]",
      "text/plain": [
       "<matplotlib.figure.Figure at 0x4832048>"
      ]
     },
     "metadata": {},
     "output_type": "display_data"
    }
   ],
   "source": [
    "state = 5**2 + 6**2 + 6 \n",
    "L_char = 2\n",
    "print('State: \\t\\t n=', n_vals[state], ', l=', L_vals[state], ', m=', m_vals[state])\n",
    "print('Character: \\t\\t l=', L_char )\n",
    "\n",
    "eig_vec_with_char = eig_vecs[:, state, np.where(L_vals==L_char)]\n",
    "plt.plot(field, np.sum( eig_vec_with_char**2, axis=2 ) )\n",
    "plt.xlabel('Electric field (V/cm)')\n",
    "plt.ylabel('Character')"
   ]
  },
  {
   "cell_type": "markdown",
   "metadata": {
    "collapsed": true
   },
   "source": [
    "## L character of states"
   ]
  },
  {
   "cell_type": "code",
   "execution_count": 26,
   "metadata": {
    "collapsed": false
   },
   "outputs": [
    {
     "name": "stdout",
     "output_type": "stream",
     "text": [
      "State from: \t\t n= 6 , l= 5 , m= 0\n",
      "State to: \t\t n= 7 , l= 2 , m= 0\n",
      "Character: \t\t l= 2\n"
     ]
    },
    {
     "data": {
      "text/plain": [
       "<matplotlib.text.Text at 0xb7d25c0>"
      ]
     },
     "execution_count": 26,
     "metadata": {},
     "output_type": "execute_result"
    },
    {
     "data": {
      "image/png": "[encoded data removed]",
      "text/plain": [
       "<matplotlib.figure.Figure at 0xb666eb8>"
      ]
     },
     "metadata": {},
     "output_type": "display_data"
    }
   ],
   "source": [
    "state_from = 5**2 + 6**2 - 6\n",
    "state_to = 5**2 + 6**2 + 6\n",
    "L_char = 2\n",
    "print('State from: \\t\\t n=', n_vals[state_from], ', l=', L_vals[state_from], ', m=', m_vals[state_from])\n",
    "print('State to: \\t\\t n=', n_vals[state_to], ', l=', L_vals[state_to], ', m=', m_vals[state_to])\n",
    "print('Character: \\t\\t l=', L_char )\n",
    "\n",
    "for state in np.arange(state_from, state_to+1, 1):\n",
    "    eig_vec_with_char = eig_vecs[:, state, np.where(L_vals==L_char)]\n",
    "    plt.plot(field, np.sum( eig_vec_with_char**2, axis=2 ) )\n",
    "\n",
    "plt.xlabel('Electric field (V/cm)')\n",
    "plt.ylabel('Character')"
   ]
  },
  {
   "cell_type": "code",
   "execution_count": 30,
   "metadata": {
    "collapsed": false
   },
   "outputs": [
    {
     "name": "stdout",
     "output_type": "stream",
     "text": [
      "Transition dipole moment:  3576.83566428  (a.u.)\n"
     ]
    }
   ],
   "source": [
    "n_1, l_1, m_1 = 72, 71, 71\n",
    "n_2, l_2, m_2 = 71, 70, 70\n",
    "transition_dipole_moment = np.abs(\n",
    "    stark_int(n_1, n_2, l_1, l_2, m_1, m_2, field_orientation='parallel', dm_allow=[-1,0,+1])) * e*a_0 # in atomic units e a_0\n",
    "print('Transition dipole moment: ', transition_dipole_moment/(e*a_0), ' (a.u.)')"
   ]
  },
  {
   "cell_type": "code",
   "execution_count": 75,
   "metadata": {
    "collapsed": false
   },
   "outputs": [
    {
     "name": "stdout",
     "output_type": "stream",
     "text": [
      "Spontaneous emission rate:  64.6085238915  /s\n",
      "Radiative lifetime, T1:  15.4778338796  ms\n"
     ]
    }
   ],
   "source": [
    "# Spontaneous decay rate\n",
    "# quantum numbers\n",
    "nmin = 71\n",
    "nmax = 72\n",
    "S = 1\n",
    "m = 0\n",
    "n_vals, L_vals = get_nl_vals(nmin, nmax, m)\n",
    "J_vals = get_J_vals(S, L_vals, 1)\n",
    "# energy levels\n",
    "En = W_n(S, n_vals, L_vals, J_vals)\n",
    "E_upper = En[np.intersect1d(np.where(n_vals == 55), np.where(L_vals == 54))[0]] * E_h\n",
    "E_lower = En[np.intersect1d(np.where(n_vals == 54), np.where(L_vals == 53))[0]] * E_h\n",
    "\n",
    "omega_transition = 2*pi*np.abs(E_upper - E_lower)/h # E=hf=h(w/2pi), w=2pi*E/h\n",
    "einstein_A = ((2*omega_transition**3)/(3*epsilon_0*h*c**3)) * np.abs(transition_dipole_moment)**2\n",
    "print('Spontaneous emission rate: ', einstein_A, ' /s')\n",
    "print('Radiative lifetime, T1: ', (1/einstein_A) * 10**3, ' ms')"
   ]
  },
  {
   "cell_type": "code",
   "execution_count": null,
   "metadata": {
    "collapsed": true
   },
   "outputs": [],
   "source": []
  },
  {
   "cell_type": "code",
   "execution_count": null,
   "metadata": {
    "collapsed": true
   },
   "outputs": [],
   "source": []
  }
 ],
 "metadata": {
  "kernelspec": {
   "display_name": "Python 3",
   "language": "python",
   "name": "python3"
  },
  "language_info": {
   "codemirror_mode": {
    "name": "ipython",
    "version": 3
   },
   "file_extension": ".py",
   "mimetype": "text/x-python",
   "name": "python",
   "nbconvert_exporter": "python",
   "pygments_lexer": "ipython3",
   "version": "3.6.0"
  }
 },
 "nbformat": 4,
 "nbformat_minor": 2
}
