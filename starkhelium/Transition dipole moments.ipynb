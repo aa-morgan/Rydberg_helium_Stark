{
 "cells": [
  {
   "cell_type": "code",
   "execution_count": 1,
   "metadata": {
    "collapsed": true
   },
   "outputs": [],
   "source": [
    "import numpy as np\n",
    "import matplotlib.pyplot as plt\n",
    "%matplotlib inline\n",
    "from starkhelium import *\n",
    "from tqdm import trange, tqdm\n",
    "import os"
   ]
  },
  {
   "cell_type": "code",
   "execution_count": 2,
   "metadata": {
    "collapsed": false
   },
   "outputs": [
    {
     "data": {
      "text/plain": [
       "491.5268274202669"
      ]
     },
     "execution_count": 2,
     "metadata": {},
     "output_type": "execute_result"
    }
   ],
   "source": [
    "# Between two nlm states\n",
    "transition_dipole_moment = stark_int(n_1=50, n_2=51, l_1=0, l_2=1, m_1=0, m_2=0)\n",
    "transition_dipole_moment"
   ]
  },
  {
   "cell_type": "code",
   "execution_count": null,
   "metadata": {
    "collapsed": false
   },
   "outputs": [
    {
     "name": "stderr",
     "output_type": "stream",
     "text": [
      "calculate Stark terms:  24%|██▍       | 200/841 [00:04<00:15, 40.92it/s]"
     ]
    }
   ],
   "source": [
    "# In an electric field (with B=0)\n",
    "# quantum numbers\n",
    "nmin = 20\n",
    "nmax = 21\n",
    "S = 1\n",
    "n_vals, L_vals, m_vals = get_nlm_vals(nmin, nmax)\n",
    "J_vals = get_J_vals(S, L_vals, 1)\n",
    "# quantum defects\n",
    "neff = n_vals - get_qd(S, n_vals, L_vals, J_vals)\n",
    "# energy levels\n",
    "En = W_n(S, n_vals, L_vals, J_vals)\n",
    "# field orientation\n",
    "field_orientation = 'crossed'\n",
    "# field-free Hamiltonian\n",
    "H_0 = np.diag(En)\n",
    "# find the off-diagonal terms of the Stark interaction matrix\n",
    "mat_S = stark_matrix(neff, L_vals, m_vals, field_orientation)"
   ]
  },
  {
   "cell_type": "code",
   "execution_count": 78,
   "metadata": {
    "collapsed": false
   },
   "outputs": [
    {
     "name": "stderr",
     "output_type": "stream",
     "text": [
      "diagonalise Hamiltonian: 100%|██████████| 41/41 [00:00<00:00, 158.60it/s]\n"
     ]
    }
   ],
   "source": [
    "# specify the electric field\n",
    "field = np.linspace(0.00, 100000000.00, 41) # V /cm\n",
    "field_au = field * 100 * e * a_0 / En_h\n",
    "# specify the magnetic field (in Telsa)\n",
    "#B_z = 1.5776E-3\n",
    "# (in atomic units)\n",
    "#B_z_au = B_z / (2.35*10**5)\n",
    "# Zeeman interaction Hamiltonian\n",
    "#H_Z = np.diag(E_zeeman(m_vals, B_z_au))\n",
    "# diagonalise for each field\n",
    "eig_vals, eig_vecs = stark_map_vec(H_0, mat_S, field_au)"
   ]
  },
  {
   "cell_type": "code",
   "execution_count": 81,
   "metadata": {
    "collapsed": false
   },
   "outputs": [
    {
     "data": {
      "text/plain": [
       "[<matplotlib.lines.Line2D at 0x10e64b7b8>]"
      ]
     },
     "execution_count": 81,
     "metadata": {},
     "output_type": "execute_result"
    },
    {
     "data": {
      "image/png": "[encoded data removed]",
      "text/plain": [
       "<matplotlib.figure.Figure at 0x10494e358>"
      ]
     },
     "metadata": {},
     "output_type": "display_data"
    }
   ],
   "source": [
    "plt.plot(np.abs(eig_vecs[:,2,2]))"
   ]
  },
  {
   "cell_type": "code",
   "execution_count": 23,
   "metadata": {
    "collapsed": false
   },
   "outputs": [
    {
     "data": {
      "text/plain": [
       "(array([2, 2, 2, 2, 3, 3, 3, 3, 3, 3, 3, 3, 3]),\n",
       " array([0, 1, 1, 1, 0, 1, 1, 1, 2, 2, 2, 2, 2]),\n",
       " array([ 0, -1,  0,  1,  0, -1,  0,  1, -2, -1,  0,  1,  2]))"
      ]
     },
     "execution_count": 23,
     "metadata": {},
     "output_type": "execute_result"
    }
   ],
   "source": [
    "n_vals, L_vals, m_vals"
   ]
  },
  {
   "cell_type": "code",
   "execution_count": null,
   "metadata": {
    "collapsed": true
   },
   "outputs": [],
   "source": []
  }
 ],
 "metadata": {
  "kernelspec": {
   "display_name": "Python 3",
   "language": "python",
   "name": "python3"
  },
  "language_info": {
   "codemirror_mode": {
    "name": "ipython",
    "version": 3
   },
   "file_extension": ".py",
   "mimetype": "text/x-python",
   "name": "python",
   "nbconvert_exporter": "python",
   "pygments_lexer": "ipython3",
   "version": "3.6.0"
  }
 },
 "nbformat": 4,
 "nbformat_minor": 2
}
