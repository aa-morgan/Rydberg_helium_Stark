{
 "cells": [
  {
   "cell_type": "code",
   "execution_count": 1,
   "metadata": {
    "collapsed": true
   },
   "outputs": [],
   "source": [
    "import numpy as np\n",
    "from scipy.special import factorial, assoc_laguerre\n",
    "import matplotlib.pyplot as plt\n",
    "%matplotlib inline\n",
    "from starkhelium import *\n",
    "from tqdm import trange, tqdm\n",
    "import os"
   ]
  },
  {
   "cell_type": "code",
   "execution_count": 48,
   "metadata": {
    "collapsed": true
   },
   "outputs": [],
   "source": [
    "#def associateLaguerrePoly(k, n, x):\n",
    "#    return np.sum( [\n",
    "#        ( factorial(n+k) / ( factorial(n-m) * factorial(k+m) * factorial(m) ) ) * x**m \n",
    "#        for m in range(n+1)], axis=0 )"
   ]
  },
  {
   "cell_type": "code",
   "execution_count": 135,
   "metadata": {
    "collapsed": false
   },
   "outputs": [],
   "source": [
    "# Hydrogen radial wavefunction\n",
    "\n",
    "r = np.linspace(0,10,1000) * 10**-10 # Radial position, in Ang\n",
    "Z = 1 # Charge\n",
    "epsilon_0 = 8.85418782 * 10**-12\n",
    "hbar = 1.05457180013*10**-34\n",
    "m_p = 1.6726219 * 10**-27\n",
    "m_e = 9.10938356 * 10**-31\n",
    "e = 1.60217662 * 10**-19\n",
    "a_0 = 4 * np.pi * epsilon_0 * hbar**2 / (m_e * e**2)\n",
    "M = m_p\n",
    "reduced_mass = m_e * M / (m_e + M)\n",
    "a = (m_e / reduced_mass) * a_0\n",
    "\n",
    "\n",
    "# Quantum numbers\n",
    "n = 2\n",
    "l = 0\n",
    "\n",
    "N_n_l = ( (2*Z) / (n*a) )**(3/2) * ( factorial(n-l-1) / factorial(2*n*(n+l)) )**0.5\n",
    "#lagPoly = associateLaguerrePoly(2*l+1, n-l-1, (2*Z*r)/(n*a))\n",
    "lagPoly = assoc_laguerre((2*Z*r)/(n*a), n-l-1, 2*l+1)\n",
    "\n",
    "R_n_l = N_n_l * ((2*Z*r) / (n*a))**l * np.exp(-(Z*r) / (n*a)) * lagPoly"
   ]
  },
  {
   "cell_type": "code",
   "execution_count": 136,
   "metadata": {
    "collapsed": false
   },
   "outputs": [
    {
     "data": {
      "image/png": "[encoded data removed]",
      "text/plain": [
       "<matplotlib.figure.Figure at 0xafbf278>"
      ]
     },
     "metadata": {},
     "output_type": "display_data"
    }
   ],
   "source": [
    "plt.plot(r * 10**9, R_n_l**2 * r**2)\n",
    "plt.xlabel('Radial position, (nm)')\n",
    "plt.ylabel('$R_{n,l}$')\n",
    "plt.grid()"
   ]
  },
  {
   "cell_type": "code",
   "execution_count": 2,
   "metadata": {
    "collapsed": false
   },
   "outputs": [
    {
     "data": {
      "text/plain": [
       "149.25817404521496"
      ]
     },
     "execution_count": 2,
     "metadata": {},
     "output_type": "execute_result"
    }
   ],
   "source": [
    "rad_overlap(10,10,0,1, p=1.0)"
   ]
  },
  {
   "cell_type": "code",
   "execution_count": null,
   "metadata": {
    "collapsed": true
   },
   "outputs": [],
   "source": []
  }
 ],
 "metadata": {
  "kernelspec": {
   "display_name": "Python 3",
   "language": "python",
   "name": "python3"
  },
  "language_info": {
   "codemirror_mode": {
    "name": "ipython",
    "version": 3
   },
   "file_extension": ".py",
   "mimetype": "text/x-python",
   "name": "python",
   "nbconvert_exporter": "python",
   "pygments_lexer": "ipython3",
   "version": "3.6.0"
  }
 },
 "nbformat": 4,
 "nbformat_minor": 2
}
