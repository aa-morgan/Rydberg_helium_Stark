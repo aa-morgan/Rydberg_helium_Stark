{
 "cells": [
  {
   "cell_type": "markdown",
   "metadata": {},
   "source": [
    "# Calculate Stark map for triplet helium"
   ]
  },
  {
   "cell_type": "code",
   "execution_count": 3,
   "metadata": {
    "collapsed": true
   },
   "outputs": [],
   "source": [
    "import numpy as np\n",
    "import matplotlib.pyplot as plt\n",
    "%matplotlib inline\n",
    "from starkhelium import *\n",
    "from tqdm import trange, tqdm\n",
    "import os\n",
    "\n",
    "a_0 = 5.2917721067e-11\n",
    "En_h = alpha**2.0 * m_e * c**2.0;\n",
    "scl = c*10**-9 * En_h /(h * c);"
   ]
  },
  {
   "cell_type": "code",
   "execution_count": 53,
   "metadata": {
    "collapsed": true
   },
   "outputs": [],
   "source": [
    "# User variables\n",
    "  # Whether to import and save the Stark interaction matrix\n",
    "IMPORT_MAT_S, CALC_MAT_S, SAVE_MAT_S = False, True, True\n",
    "  # Whether to import and save the Diamagnetic interaction matrix\n",
    "IMPORT_MAT_D, CALC_MAT_D, SAVE_MAT_D = False, True, True\n",
    "  # Whether to save the eigenvalues and eigenvectors\n",
    "SAVE_EIG_VALS = True\n",
    "SAVE_EIG_VECS = True"
   ]
  },
  {
   "cell_type": "code",
   "execution_count": 54,
   "metadata": {
    "collapsed": true
   },
   "outputs": [],
   "source": [
    "# Helper functions\n",
    "def getDataDir():\n",
    "    # Create data directoy if it doesn't exist\n",
    "    directory = os.path.join(\".\", \"data\")\n",
    "    if not os.path.exists(directory):\n",
    "        os.makedirs(directory)\n",
    "    return directory\n",
    "def getImagesDir():\n",
    "    # Create data directoy if it doesn't exist\n",
    "    directory = os.path.join(\".\", \"figures\")\n",
    "    if not os.path.exists(directory):\n",
    "        os.makedirs(directory)\n",
    "    return directory\n",
    "\n",
    "def getFilenameInt(name, nmin, nmax):\n",
    "    return name + \"IntMatrix_n_\" + str(nmin) + \"-\" + str(nmax)\n",
    "    \n",
    "def getFilenameEig(nmin, nmax, field, B_z):\n",
    "    return \"StarkMapData_n_\" + str(nmin) + \"-\" + str(nmax) + \\\n",
    "    \"_E_\" + str(np.min(field)).replace('.', '-') + \"_\" + str(np.max(field)).replace('.', '-') + \"_\" + str(len(field)) + \\\n",
    "    \"_B_\" + str(B_z*1E3).replace('.', '-')\n",
    "\n",
    "def saveIntMat(mat_I, name, nmin, nmax):\n",
    "    # Create fileaname for interaction map\n",
    "    filename = getFilenameInt(name, nmin, nmax) + '.npy'\n",
    "    # Get data directoy, create it if it doesn't exist\n",
    "    directory = getDataDir()\n",
    "    # Save interaction matrix to file\n",
    "    fileout = os.path.join(directory, filename)\n",
    "    np.save(fileout, mat_I)\n",
    "    \n",
    "def importIntMat(name, nmin, nmax):\n",
    "    filename = getFilenameInt(name, nmin, nmax) + \".npy\"\n",
    "    directory = getDataDir()\n",
    "    filein = os.path.join(directory, filename)\n",
    "    try:\n",
    "        return np.load(filein)\n",
    "    except:\n",
    "        raise"
   ]
  },
  {
   "cell_type": "code",
   "execution_count": 55,
   "metadata": {},
   "outputs": [
    {
     "name": "stderr",
     "output_type": "stream",
     "text": [
      "Calculating Stark terms: 100%|██████████| 77/77 [00:00<00:00, 392.67it/s]\n",
      "Calculating diamagnetic terms: 100%|██████████| 77/77 [00:00<00:00, 728.08it/s]\n"
     ]
    }
   ],
   "source": [
    "# quantum numbers\n",
    "nmin = 4\n",
    "nmax = 6\n",
    "S = 1\n",
    "n_vals, L_vals, m_vals = get_nlm_vals(nmin, nmax)\n",
    "J_vals = get_J_vals(S, L_vals, 1)\n",
    "# quantum defects\n",
    "neff = n_vals - get_qd(S, n_vals, L_vals, J_vals)\n",
    "# energy levels\n",
    "En = W_n(S, n_vals, L_vals, J_vals)\n",
    "#En = En_0(neff)\n",
    "# field orientation\n",
    "field_orientation = 'crossed'\n",
    "# field-free Hamiltonian\n",
    "H_0 = np.diag(En)\n",
    "# Numerov step size\n",
    "step_params = ['flat', 0.005]\n",
    "\n",
    "if IMPORT_MAT_S: mat_S = importIntMat('Stark', nmin, nmax)\n",
    "elif CALC_MAT_S: \n",
    "    mat_S = stark_matrix(neff, L_vals, m_vals, field_orientation, step_params=step_params)\n",
    "    if SAVE_MAT_S: \n",
    "        saveIntMat(mat_S, 'Stark', nmin, nmax)\n",
    "        #del mat_S\n",
    "\n",
    "if IMPORT_MAT_D: mat_D = importIntMat('Diamagnetic', nmin, nmax)\n",
    "elif CALC_MAT_D: \n",
    "    mat_D = diamagnetic_matrix(neff, L_vals, m_vals, step_params=step_params)\n",
    "    if SAVE_MAT_D: \n",
    "        saveIntMat(mat_D, 'Diamagnetic', nmin, nmax)\n",
    "        #del mat_D"
   ]
  },
  {
   "cell_type": "code",
   "execution_count": 56,
   "metadata": {},
   "outputs": [
    {
     "name": "stderr",
     "output_type": "stream",
     "text": [
      "diagonalise Hamiltonian: 100%|██████████| 11/11 [00:00<00:00, 986.96it/s]\n"
     ]
    }
   ],
   "source": [
    "# specify the electric field\n",
    "field = np.linspace(0.0, 10, 11) # V /cm\n",
    "field_au = field * 100 / (En_h_He/(e*a_0_He)) \n",
    "# specify the magnetic field (in Telsa)\n",
    "B_z = 1.0E-1\n",
    "# (in atomic units)\n",
    "B_z_au = B_z / (hbar/(e*a_0_He**2))\n",
    "# Zeeman interaction Hamiltonian\n",
    "H_Z = np.diag(E_zeeman(m_vals, B_z_au))\n",
    "# Diamagnetic interaction Hamiltonian\n",
    "if IMPORT_MAT_D or CALC_MAT_D:\n",
    "    H_D = mat_D * (B_z_au**2)/8\n",
    "else:\n",
    "    H_D = 0\n",
    "\n",
    "# diagonalise for each field\n",
    "if SAVE_EIG_VECS:\n",
    "    eig_vals, eig_vecs = stark_map_vec(H_0, mat_S, field_au, H_Z=H_Z, H_D=H_D)\n",
    "else:\n",
    "    eig_vals = stark_map(H_0, mat_S, field_au, H_Z=H_Z, H_D=H_D)\n",
    "\n",
    "if SAVE_EIG_VALS:\n",
    "    # Save eigenvalues to file\n",
    "    filename = getFilenameEig(nmin, nmax, field, B_z) + \"_eigval\"\n",
    "    fileout = os.path.join(getDataDir(), filename)\n",
    "    np.save(fileout, eig_vals)\n",
    "    \n",
    "if SAVE_EIG_VECS:\n",
    "    # Save eigenvectors to file\n",
    "    filename = getFilenameEig(nmin, nmax, field, B_z) + \"_eigvec\"\n",
    "    fileout = os.path.join(getDataDir(), filename)\n",
    "    np.save(fileout, eig_vecs)"
   ]
  },
  {
   "cell_type": "code",
   "execution_count": null,
   "metadata": {
    "collapsed": true
   },
   "outputs": [],
   "source": []
  }
 ],
 "metadata": {
  "kernelspec": {
   "display_name": "Python 3",
   "language": "python",
   "name": "python3"
  },
  "language_info": {
   "codemirror_mode": {
    "name": "ipython",
    "version": 3
   },
   "file_extension": ".py",
   "mimetype": "text/x-python",
   "name": "python",
   "nbconvert_exporter": "python",
   "pygments_lexer": "ipython3",
   "version": "3.6.1"
  }
 },
 "nbformat": 4,
 "nbformat_minor": 2
}
