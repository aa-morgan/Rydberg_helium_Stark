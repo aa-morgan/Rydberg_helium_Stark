{
 "cells": [
  {
   "cell_type": "code",
   "execution_count": 1,
   "metadata": {
    "collapsed": true
   },
   "outputs": [],
   "source": [
    "import numpy as np\n",
    "import matplotlib.pyplot as plt\n",
    "%matplotlib inline\n",
    "from starkhelium import *\n",
    "from tqdm import trange, tqdm\n",
    "import os\n",
    "from scipy.constants import h, hbar, c, alpha, m_e, e, epsilon_0, atomic_mass, pi, physical_constants\n",
    "a_0 = physical_constants['Bohr radius'][0]\n",
    "E_h = physical_constants['Hartree energy'][0]"
   ]
  },
  {
   "cell_type": "code",
   "execution_count": 12,
   "metadata": {
    "collapsed": false
   },
   "outputs": [
    {
     "name": "stdout",
     "output_type": "stream",
     "text": [
      "Transition dipole moment:  2071.22925571  (a.u.)\n",
      "Spontaneous emission rate:  21.6644759532  /s\n",
      "Radiative lifetime, T1:  46.1585132342  ms\n"
     ]
    }
   ],
   "source": [
    "# Transition dipole moments\n",
    "n_1, l_1, m_1 = 55, 54, 54\n",
    "n_2, l_2, m_2 = 54, 53, 53\n",
    "transition_dipole_moment = np.abs(\n",
    "    stark_int(n_1, n_2, l_1, l_2, m_1, m_2, field_orientation='parallel', dm_allow=[-1,0,+1])) * e*a_0 # in atomic units e a_0\n",
    "print('Transition dipole moment: ', transition_dipole_moment/(e*a_0), ' (a.u.)')\n",
    "\n",
    "# Spontaneous decay rate\n",
    "nmin = np.min([n_1, n_2])\n",
    "nmax = np.max([n_1, n_2])\n",
    "S = 1\n",
    "m = 0\n",
    "n_vals, L_vals = get_nl_vals(nmin, nmax, m)\n",
    "J_vals = get_J_vals(S, L_vals, 1)\n",
    "# energy levels\n",
    "En = W_n(S, n_vals, L_vals, J_vals)\n",
    "\n",
    "E_upper = En[np.intersect1d(np.where(n_vals == n_1), np.where(L_vals == l_1))[0]] * E_h\n",
    "E_lower = En[np.intersect1d(np.where(n_vals == n_2), np.where(L_vals == l_2))[0]] * E_h\n",
    "omega_transition = 2*pi*np.abs(E_upper - E_lower)/h # E=hf=h(w/2pi), w=2pi*E/h\n",
    "einstein_A = ((2*omega_transition**3)/(3*epsilon_0*h*c**3)) * np.abs(transition_dipole_moment)**2\n",
    "print('Spontaneous emission rate: ', einstein_A, ' /s')\n",
    "print('Radiative lifetime, T1: ', (1/einstein_A) * 10**3, ' ms')"
   ]
  },
  {
   "cell_type": "code",
   "execution_count": 14,
   "metadata": {
    "collapsed": false
   },
   "outputs": [
    {
     "name": "stdout",
     "output_type": "stream",
     "text": [
      "Transition dipole moment:  3378.49227662  (a.u.)\n",
      "Spontaneous emission rate:  6.46187477258  /s\n",
      "Radiative lifetime, T1:  154.753850112  ms\n"
     ]
    }
   ],
   "source": [
    "# Transition dipole moments\n",
    "n_1, l_1, m_1 = 70, 69, 69\n",
    "n_2, l_2, m_2 = 69, 68, 68\n",
    "transition_dipole_moment = np.abs(\n",
    "    stark_int(n_1, n_2, l_1, l_2, m_1, m_2, field_orientation='parallel', dm_allow=[-1,0,+1])) * e*a_0 # in atomic units e a_0\n",
    "print('Transition dipole moment: ', transition_dipole_moment/(e*a_0), ' (a.u.)')\n",
    "\n",
    "# Spontaneous decay rate\n",
    "nmin = np.min([n_1, n_2])\n",
    "nmax = np.max([n_1, n_2])\n",
    "S = 1\n",
    "m = 0\n",
    "n_vals, L_vals = get_nl_vals(nmin, nmax, m)\n",
    "J_vals = get_J_vals(S, L_vals, 1)\n",
    "# energy levels\n",
    "En = W_n(S, n_vals, L_vals, J_vals)\n",
    "\n",
    "E_upper = En[np.intersect1d(np.where(n_vals == n_1), np.where(L_vals == l_1))[0]] * E_h\n",
    "E_lower = En[np.intersect1d(np.where(n_vals == n_2), np.where(L_vals == l_2))[0]] * E_h\n",
    "omega_transition = 2*pi*np.abs(E_upper - E_lower)/h # E=hf=h(w/2pi), w=2pi*E/h\n",
    "einstein_A = ((2*omega_transition**3)/(3*epsilon_0*h*c**3)) * np.abs(transition_dipole_moment)**2\n",
    "print('Spontaneous emission rate: ', einstein_A, ' /s')\n",
    "print('Radiative lifetime, T1: ', (1/einstein_A) * 10**3, ' ms')"
   ]
  },
  {
   "cell_type": "code",
   "execution_count": null,
   "metadata": {
    "collapsed": true
   },
   "outputs": [],
   "source": []
  }
 ],
 "metadata": {
  "kernelspec": {
   "display_name": "Python 3",
   "language": "python",
   "name": "python3"
  },
  "language_info": {
   "codemirror_mode": {
    "name": "ipython",
    "version": 3
   },
   "file_extension": ".py",
   "mimetype": "text/x-python",
   "name": "python",
   "nbconvert_exporter": "python",
   "pygments_lexer": "ipython3",
   "version": "3.6.0"
  }
 },
 "nbformat": 4,
 "nbformat_minor": 2
}
