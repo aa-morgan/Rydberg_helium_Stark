{
 "cells": [
  {
   "cell_type": "markdown",
   "metadata": {},
   "source": [
    "# Calculate Stark map for triplet helium"
   ]
  },
  {
   "cell_type": "code",
   "execution_count": 7,
   "metadata": {},
   "outputs": [],
   "source": [
    "import os\n",
    "import numpy as np\n",
    "#import matplotlib.pyplot as plt\n",
    "#%matplotlib inline\n",
    "from starkhelium import *\n",
    "from tqdm import trange, tqdm\n",
    "from scipy.constants import h, hbar, c, alpha, m_e, e, epsilon_0, atomic_mass, pi, physical_constants\n",
    "a_0 = physical_constants['Bohr radius'][0]\n",
    "En_h = alpha**2.0 * m_e * c**2.0;\n",
    "scl = c*10**-9 * En_h /(h * c);"
   ]
  },
  {
   "cell_type": "code",
   "execution_count": 8,
   "metadata": {
    "collapsed": true
   },
   "outputs": [],
   "source": [
    "# User variables\n",
    "  # Whether to import and save the Stark interaction matrix\n",
    "IMPORT_MAT_S, CALC_MAT_S, SAVE_MAT_S = False, True, True\n",
    "  # Whether to import and save the Diamagnetic interaction matrix\n",
    "IMPORT_MAT_D, CALC_MAT_D, SAVE_MAT_D = False, True, True\n",
    "  # Whether to save the eigenvalues and eigenvectors\n",
    "SAVE_EIG_VALS = True\n",
    "SAVE_EIG_VECS = False"
   ]
  },
  {
   "cell_type": "code",
   "execution_count": 9,
   "metadata": {
    "collapsed": true
   },
   "outputs": [],
   "source": [
    "# Helper functions\n",
    "def getDataDir():\n",
    "    # Create data directoy if it doesn't exist\n",
    "    directory = os.path.join(\".\", \"data\")\n",
    "    if not os.path.exists(directory):\n",
    "        os.makedirs(directory)\n",
    "    return directory\n",
    "def getImagesDir():\n",
    "    # Create data directoy if it doesn't exist\n",
    "    directory = os.path.join(\".\", \"images\")\n",
    "    if not os.path.exists(directory):\n",
    "        os.makedirs(directory)\n",
    "    return directory\n",
    "\n",
    "def getFilenameInt(name, nmin, nmax, step_params):\n",
    "    return name + \"IntMatrix_n_\" + str(nmin) + \"-\" + str(nmax) + \\\n",
    "    \"_step_\" + str(step_params[0]).replace('.', '-') + \"_\" + str(step_params[1]).replace('.', '-') + \\\n",
    "    \"_\" + str(step_params[2]).replace('.', '-')\n",
    "    \n",
    "def getFilenameStarkMap(nmin, nmax, step_params, field, B_z):\n",
    "    return \"StarkMapData_n_\" + str(nmin) + \"-\" + str(nmax) + \\\n",
    "    \"_step_\" + str(step_params[0]).replace('.', '-') + \"_\" + str(step_params[1]).replace('.', '-') + \\\n",
    "    \"_\" + str(step_params[2]).replace('.', '-') + \\\n",
    "    \"_E_\" + str(np.min(field)).replace('.', '-') + \"_\" + str(np.max(field)).replace('.', '-') + \"_\" + str(len(field)) + \\\n",
    "    \"_B_\" + str(B_z*1E3).replace('.', '-') + '.npy'\n",
    "\n",
    "def saveIntMat(mat_I, name, nmin, nmax, step_params):\n",
    "    # Create fileaname for interaction map\n",
    "    filename = getFilenameInt(name, nmin, nmax, step_params)\n",
    "    # Get data directoy, create it if it doesn't exist\n",
    "    directory = getDataDir()\n",
    "    # Save interaction matrix to file\n",
    "    fileout = os.path.join(directory, filename)\n",
    "    np.save(fileout, mat_I)\n",
    "    \n",
    "def importIntMat(name, nmin, nmax, step_params):\n",
    "    filename = name + \"IntMatrix_n_\" + str(nmin) + \"-\" + str(nmax) + \".npy\"\n",
    "    directory = getDataDir()\n",
    "    filein = os.path.join(directory, filename)\n",
    "    try:\n",
    "        return np.load(filein)\n",
    "    except:\n",
    "        raise"
   ]
  },
  {
   "cell_type": "code",
   "execution_count": null,
   "metadata": {},
   "outputs": [],
   "source": [
    "# quantum numbers\n",
    "nmin = 69\n",
    "nmax = 74\n",
    "S = 1\n",
    "n_vals, L_vals, m_vals = get_nlm_vals(nmin, nmax)\n",
    "J_vals = get_J_vals(S, L_vals, 1)\n",
    "# quantum defects\n",
    "neff = n_vals - get_qd(S, n_vals, L_vals, J_vals)\n",
    "# energy levels\n",
    "En = W_n(S, n_vals, L_vals, J_vals)\n",
    "#En = En_0(neff)\n",
    "# field orientation\n",
    "field_orientation = 'crossed'\n",
    "# field-free Hamiltonian\n",
    "H_0 = np.diag(En)\n",
    "# Numerov step size\n",
    "step_low = 0.005\n",
    "step_high = 0.005\n",
    "interp_type = 'sigmoid'\n",
    "interp_params = [10.0,0.5]\n",
    "step_params = [step_low, step_high, interp_type, interp_params]\n",
    "\n",
    "if IMPORT_MAT_S: mat_S = importIntMat('Stark', nmin, nmax, step_params)\n",
    "elif CALC_MAT_S: \n",
    "    mat_S = stark_matrix(n_vals, neff, L_vals, m_vals, field_orientation, step_params=step_params)\n",
    "    if SAVE_MAT_S: \n",
    "        saveIntMat(mat_S, 'Stark', nmin, nmax, step_params)\n",
    "        del mat_S\n",
    "            \n",
    "if IMPORT_MAT_D: mat_D = importIntMat('Diamagnetic', nmin, nmax, step_params)\n",
    "elif CALC_MAT_D: \n",
    "    mat_D = diamagnetic_matrix(n_vals, neff, L_vals, m_vals, step_params=step_params)\n",
    "    if SAVE_MAT_D: \n",
    "        saveIntMat(mat_D, 'Diamagnetic', nmin, nmax, step_params)\n",
    "        del mat_D"
   ]
  },
  {
   "cell_type": "code",
   "execution_count": null,
   "metadata": {},
   "outputs": [],
   "source": [
    "# specify the electric field\n",
    "field = np.linspace(1.0, 2.0, 11) # V /cm\n",
    "field_au = field * 100 / (En_h_He/(e*a_0_He)) \n",
    "# specify the magnetic field (in Telsa)\n",
    "B_z = 1.6154E-3\n",
    "# (in atomic units)\n",
    "B_z_au = B_z / (hbar/(e*a_0_He**2))\n",
    "# Zeeman interaction Hamiltonian\n",
    "H_Z = np.diag(E_zeeman(m_vals, B_z_au))\n",
    "# Diamagnetic interaction Hamiltonian\n",
    "if IMPORT_MAT_D or CALC_MAT_D:\n",
    "    H_D = mat_D * (B_z_au**2)/8\n",
    "else:\n",
    "    H_D = 0\n",
    "\n",
    "# diagonalise for each field\n",
    "if SAVE_EIG_VECS:\n",
    "    eig_vals_vecs = stark_map_vec(H_0, mat_S, field_au, H_Z=H_Z, H_D=H_D)\n",
    "else:\n",
    "    eig_vals_vecs = stark_map(H_0, mat_S, field_au, H_Z=H_Z, H_D=H_D)\n",
    "\n",
    "if SAVE_EIG_VALS or SAVE_EIG_VECS:\n",
    "    # Save Stark map to file\n",
    "    filename = getFilenameStarkMap(nmin, nmax, step_params, field, B_z)\n",
    "    fileout = os.path.join(getDataDir(), filename)\n",
    "    np.save(fileout, eig_vals_vecs)"
   ]
  },
  {
   "cell_type": "code",
   "execution_count": null,
   "metadata": {
    "collapsed": true
   },
   "outputs": [],
   "source": []
  }
 ],
 "metadata": {
  "kernelspec": {
   "display_name": "Python 3",
   "language": "python",
   "name": "python3"
  },
  "language_info": {
   "codemirror_mode": {
    "name": "ipython",
    "version": 3
   },
   "file_extension": ".py",
   "mimetype": "text/x-python",
   "name": "python",
   "nbconvert_exporter": "python",
   "pygments_lexer": "ipython3",
   "version": "3.6.1"
  }
 },
 "nbformat": 4,
 "nbformat_minor": 2
}
