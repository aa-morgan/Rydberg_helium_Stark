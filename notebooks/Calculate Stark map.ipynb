{
 "cells": [
  {
   "cell_type": "markdown",
   "metadata": {},
   "source": [
    "# Calculate Stark map for triplet helium"
   ]
  },
  {
   "cell_type": "code",
   "execution_count": 1,
   "metadata": {
    "collapsed": true
   },
   "outputs": [],
   "source": [
    "import os\n",
    "import numpy as np\n",
    "import matplotlib.pyplot as plt\n",
    "%matplotlib inline\n",
    "from starkhelium import *\n",
    "from tqdm import trange, tqdm\n",
    "from scipy.constants import h, hbar, c, alpha, m_e, e, epsilon_0, atomic_mass, pi, physical_constants\n",
    "a_0 = physical_constants['Bohr radius'][0]\n",
    "En_h = alpha**2.0 * m_e * c**2.0;\n",
    "scl = c*10**-9 * En_h /(h * c);"
   ]
  },
  {
   "cell_type": "code",
   "execution_count": 2,
   "metadata": {
    "collapsed": true
   },
   "outputs": [],
   "source": [
    "# User variables\n",
    "  # Whether to import and save the Stark interaction matrix\n",
    "IMPORT_MAT_S, CALC_MAT_S, SAVE_MAT_S = False, True, True\n",
    "  # Whether to import and save the Diamagnetic interaction matrix\n",
    "IMPORT_MAT_D, CALC_MAT_D, SAVE_MAT_D = False, False, False\n",
    "  # Whether to save the eigenvalues and eigenvectors\n",
    "SAVE_EIG_VALS = True\n",
    "SAVE_EIG_VECS = False"
   ]
  },
  {
   "cell_type": "code",
   "execution_count": 3,
   "metadata": {
    "collapsed": true
   },
   "outputs": [],
   "source": [
    "# Helper functions\n",
    "def getDataDir():\n",
    "    # Create data directoy if it doesn't exist\n",
    "    directory = os.path.join(\".\", \"data\")\n",
    "    if not os.path.exists(directory):\n",
    "        os.makedirs(directory)\n",
    "    return directory\n",
    "def getImagesDir():\n",
    "    # Create data directoy if it doesn't exist\n",
    "    directory = os.path.join(\".\", \"images\")\n",
    "    if not os.path.exists(directory):\n",
    "        os.makedirs(directory)\n",
    "    return directory\n",
    "\n",
    "def getFilenameInt(name, nmin, nmax, step_params):\n",
    "    return name + \"IntMatrix_n_\" + str(nmin) + \"-\" + str(nmax) + \\\n",
    "    \"_step_\" + str(step_params[0]).replace('.', '-') + \"_\" + str(step_params[1]).replace('.', '-') + \\\n",
    "    \"_\" + str(step_params[2]).replace('.', '-')\n",
    "    \n",
    "def getFilenameStarkMap(nmin, nmax, step_params, field, B_z):\n",
    "    return \"StarkMapData_n_\" + str(nmin) + \"-\" + str(nmax) + \\\n",
    "    \"_step_\" + str(step_params[0]).replace('.', '-') + \"_\" + str(step_params[1]).replace('.', '-') + \\\n",
    "    \"_\" + str(step_params[2]).replace('.', '-') + \\\n",
    "    \"_E_\" + str(np.min(field)).replace('.', '-') + \"_\" + str(np.max(field)).replace('.', '-') + \"_\" + str(len(field)) + \\\n",
    "    \"_B_\" + str(B_z*1E3).replace('.', '-') + '.npy'\n",
    "\n",
    "def saveIntMat(mat_I, name, nmin, nmax, step_params, extra=''):\n",
    "    # Create fileaname for interaction map\n",
    "    filename = getFilenameInt(name, nmin, nmax, step_params) + extra\n",
    "    # Get data directoy, create it if it doesn't exist\n",
    "    directory = getDataDir()\n",
    "    # Save interaction matrix to file\n",
    "    fileout = os.path.join(directory, filename)\n",
    "    np.save(fileout, mat_I)\n",
    "    \n",
    "def importIntMat(name, nmin, nmax, step_params, extra=''):\n",
    "    filename = name + \"IntMatrix_n_\" + str(nmin) + \"-\" + str(nmax) + extra + \".npy\"\n",
    "    directory = getDataDir()\n",
    "    filein = os.path.join(directory, filename)\n",
    "    try:\n",
    "        return np.load(filein)\n",
    "    except:\n",
    "        raise"
   ]
  },
  {
   "cell_type": "code",
   "execution_count": 4,
   "metadata": {
    "collapsed": false
   },
   "outputs": [
    {
     "name": "stderr",
     "output_type": "stream",
     "text": [
      "Calculating Stark terms: 100%|█████████| 30691/30691 [3:17:18<00:00,  2.59it/s]\n",
      "Calculating Stark terms: 100%|█████████| 30691/30691 [3:12:58<00:00,  2.65it/s]\n",
      "Calculating Stark terms: 100%|█████████| 30691/30691 [3:12:51<00:00,  2.65it/s]\n"
     ]
    }
   ],
   "source": [
    "for qd_error in [-5,-4,-3]:\n",
    "    # quantum numbers\n",
    "    nmin = 69\n",
    "    nmax = 74\n",
    "    S = 1\n",
    "    n_vals, L_vals, m_vals = get_nlm_vals(nmin, nmax)\n",
    "    J_vals = get_J_vals(S, L_vals, 1)\n",
    "    # quantum defects\n",
    "    neff = n_vals - get_qd(S, n_vals, L_vals, J_vals) + (L_vals==0)*10**qd_error\n",
    "    # energy levels\n",
    "    En = W_n(S, n_vals, L_vals, J_vals)\n",
    "    #En = En_0(neff)\n",
    "    # field orientation\n",
    "    field_orientation = 'crossed'\n",
    "    # field-free Hamiltonian\n",
    "    H_0 = np.diag(En)\n",
    "    # Numerov step size\n",
    "    step_low = 0.005\n",
    "    step_high = 0.005\n",
    "    interp_type = 'sigmoid'\n",
    "    sigmoid_width = 10.0\n",
    "    sigmoid_pos = 0.5\n",
    "    round_step = 4\n",
    "    useAutoStep = False\n",
    "    useDict = False\n",
    "    interp_params = [sigmoid_width, sigmoid_pos, round_step]\n",
    "    step_params = [step_low, step_high, interp_type, interp_params]\n",
    "\n",
    "    if IMPORT_MAT_S: mat_S = importIntMat('Stark', nmin, nmax, step_params, extra='_-'+str(abs(qd_error)))\n",
    "    elif CALC_MAT_S: \n",
    "        mat_S = stark_matrix(n_vals, neff, L_vals, m_vals, field_orientation, \n",
    "                             step_params=step_params, useAutoStep=useAutoStep, useDict=useDict)\n",
    "        if SAVE_MAT_S: \n",
    "            saveIntMat(mat_S, 'Stark', nmin, nmax, step_params, extra='_-'+str(abs(qd_error)))\n",
    "            del mat_S\n",
    "\n",
    "    if IMPORT_MAT_D: mat_D = importIntMat('Diamagnetic', nmin, nmax, step_params)\n",
    "    elif CALC_MAT_D: \n",
    "        mat_D = diamagnetic_matrix(n_vals, neff, L_vals, m_vals, \n",
    "                                   step_params=step_params, useAutoStep=useAutoStep, useDict=useDict)\n",
    "        if SAVE_MAT_D: \n",
    "            saveIntMat(mat_D, 'Diamagnetic', nmin, nmax, step_params)\n",
    "            del mat_D"
   ]
  },
  {
   "cell_type": "code",
   "execution_count": 35,
   "metadata": {
    "collapsed": false
   },
   "outputs": [
    {
     "name": "stderr",
     "output_type": "stream",
     "text": [
      "\n",
      "diagonalise Hamiltonian:   0%|                           | 0/5 [00:00<?, ?it/s]\n",
      "diagonalise Hamiltonian: 100%|██████████████████| 5/5 [09:11<00:00, 110.90s/it]\n"
     ]
    }
   ],
   "source": [
    "# specify the electric field\n",
    "field = np.linspace(0.845, 0.849, 5) # V /cm\n",
    "field_au = field * 100 / (En_h_He/(e*a_0_He)) \n",
    "# specify the magnetic field (in Telsa)\n",
    "B_z = 1.6154E-3\n",
    "# (in atomic units)\n",
    "B_z_au = B_z / (hbar/(e*a_0_He**2))\n",
    "# Zeeman interaction Hamiltonian\n",
    "H_Z = np.diag(E_zeeman(m_vals, B_z_au))\n",
    "# Diamagnetic interaction Hamiltonian\n",
    "if IMPORT_MAT_D or CALC_MAT_D:\n",
    "    H_D = mat_D * (B_z_au**2)/8\n",
    "else:\n",
    "    H_D = 0\n",
    "\n",
    "# diagonalise for each field\n",
    "if SAVE_EIG_VECS:\n",
    "    eig_vals_vecs = stark_map_vec(H_0, mat_S, field_au, H_Z=H_Z, H_D=H_D)\n",
    "else:\n",
    "    eig_vals_vecs = stark_map(H_0, mat_S, field_au, H_Z=H_Z, H_D=H_D)\n",
    "\n",
    "if SAVE_EIG_VALS or SAVE_EIG_VECS:\n",
    "    # Save Stark map to file\n",
    "    filename = getFilenameStarkMap(nmin, nmax, step_params, field, B_z)\n",
    "    fileout = os.path.join(getDataDir(), filename)\n",
    "    np.save(fileout, eig_vals_vecs)"
   ]
  },
  {
   "cell_type": "code",
   "execution_count": 6,
   "metadata": {
    "collapsed": false
   },
   "outputs": [],
   "source": [
    "# quantum numbers\n",
    "nmin = 72\n",
    "nmax = 73\n",
    "S = 1\n",
    "n_vals, L_vals, m_vals = get_nlm_vals(nmin, nmax)\n",
    "J_vals = get_J_vals(S, L_vals, 1)\n",
    "# quantum defects\n",
    "neff = n_vals - get_qd(S, n_vals, L_vals, J_vals) + (L_vals==0)*10**qd_error\n",
    "# energy levels\n",
    "En = W_n(S, n_vals, L_vals, J_vals)\n",
    "#En = En_0(neff)\n",
    "# field orientation\n",
    "field_orientation = 'crossed'\n",
    "# field-free Hamiltonian\n",
    "H_0 = np.diag(En)\n",
    "\n",
    "# Numerov step size\n",
    "step_low = 0.005\n",
    "step_high = 0.005\n",
    "interp_type = 'sigmoid'\n",
    "sigmoid_width = 10.0\n",
    "sigmoid_pos = 0.5\n",
    "round_step = 4\n",
    "useAutoStep = False\n",
    "interp_params = [sigmoid_width, sigmoid_pos, round_step]\n",
    "step_params = [step_low, step_high, interp_type, interp_params]\n",
    "\n",
    "mat_S_0 = importIntMat('Stark', nmin, nmax, step_params, extra='_-'+str(0))\n",
    "mat_S_1 = importIntMat('Stark', nmin, nmax, step_params, extra='_-'+str(1))\n",
    "mat_S_2 = importIntMat('Stark', nmin, nmax, step_params, extra='_-'+str(2))\n",
    "mat_S_3 = importIntMat('Stark', nmin, nmax, step_params, extra='_-'+str(3))\n",
    "mat_S_4 = importIntMat('Stark', nmin, nmax, step_params, extra='_-'+str(4))\n",
    "mat_S_5 = importIntMat('Stark', nmin, nmax, step_params, extra='_-'+str(5))"
   ]
  },
  {
   "cell_type": "code",
   "execution_count": 7,
   "metadata": {
    "collapsed": false
   },
   "outputs": [],
   "source": [
    "# specify the electric field\n",
    "field = np.linspace(0.845, 0.849, 5) # V /cm\n",
    "field_au = field * 100 / (En_h_He/(e*a_0_He)) \n",
    "# specify the magnetic field (in Telsa)\n",
    "B_z = 1.6154E-3\n",
    "# (in atomic units)\n",
    "B_z_au = B_z / (hbar/(e*a_0_He**2))\n",
    "# Zeeman interaction Hamiltonian\n",
    "H_Z = np.diag(E_zeeman(m_vals, B_z_au))"
   ]
  },
  {
   "cell_type": "code",
   "execution_count": 8,
   "metadata": {
    "collapsed": false
   },
   "outputs": [
    {
     "name": "stderr",
     "output_type": "stream",
     "text": [
      "diagonalise Hamiltonian: 100%|██████████████████| 5/5 [09:09<00:00, 110.73s/it]\n",
      "diagonalise Hamiltonian: 100%|██████████████████| 5/5 [08:59<00:00, 108.38s/it]\n",
      "diagonalise Hamiltonian: 100%|██████████████████| 5/5 [08:51<00:00, 106.34s/it]\n",
      "diagonalise Hamiltonian: 100%|██████████████████| 5/5 [08:53<00:00, 106.79s/it]\n",
      "diagonalise Hamiltonian: 100%|██████████████████| 5/5 [08:52<00:00, 106.48s/it]\n",
      "diagonalise Hamiltonian: 100%|██████████████████| 5/5 [08:57<00:00, 107.50s/it]\n"
     ]
    }
   ],
   "source": [
    "eig_vals_vecs_0 = stark_map(H_0, mat_S_0, field_au, H_Z=H_Z)\n",
    "eig_vals_vecs_1 = stark_map(H_0, mat_S_1, field_au, H_Z=H_Z)\n",
    "eig_vals_vecs_2 = stark_map(H_0, mat_S_2, field_au, H_Z=H_Z)\n",
    "eig_vals_vecs_3 = stark_map(H_0, mat_S_3, field_au, H_Z=H_Z)\n",
    "eig_vals_vecs_4 = stark_map(H_0, mat_S_4, field_au, H_Z=H_Z)\n",
    "eig_vals_vecs_5 = stark_map(H_0, mat_S_5, field_au, H_Z=H_Z)"
   ]
  },
  {
   "cell_type": "code",
   "execution_count": 10,
   "metadata": {
    "collapsed": false
   },
   "outputs": [
    {
     "data": {
      "image/png": "[encoded data removed]",
      "text/plain": [
       "<matplotlib.figure.Figure at 0xb035908>"
      ]
     },
     "metadata": {},
     "output_type": "display_data"
    }
   ],
   "source": [
    "state_73s_72_73 = 72**2\n",
    "\n",
    "# Plot Stark map\n",
    "plt.subplots(figsize=(10, 6))\n",
    "\n",
    "plt.plot(field, 0.01*eig_vals_vecs_0[:, state_73s_72_73] * En_h /(h * c), c='k', ls='-', marker='o', lw=0.5)\n",
    "plt.plot(field, 0.01*eig_vals_vecs_0[:, state_73s_72_73-1] * En_h /(h * c), c='k', ls='-', marker='o', lw=0.5)\n",
    "\n",
    "#plt.plot(field, 0.01*eig_vals_vecs_1[:, state_73s_72_73] * En_h /(h * c), c='r', ls='-', marker='o', lw=0.5)\n",
    "#plt.plot(field, 0.01*eig_vals_vecs_1[:, state_73s_72_73-1] * En_h /(h * c), c='r', ls='-', marker='o', lw=0.5)\n",
    "\n",
    "#plt.plot(field, 0.01*eig_vals_vecs_2[:, state_73s_72_73] * En_h /(h * c), c='g', ls='-', marker='o', lw=0.5)\n",
    "#plt.plot(field, 0.01*eig_vals_vecs_2[:, state_73s_72_73-1] * En_h /(h * c), c='g', ls='-', marker='o', lw=0.5)\n",
    "\n",
    "#plt.plot(field, 0.01*eig_vals_vecs_3[:, state_73s_72_73] * En_h /(h * c), c='b', ls='-', marker='o', lw=0.5)\n",
    "#plt.plot(field, 0.01*eig_vals_vecs_3[:, state_73s_72_73-1] * En_h /(h * c), c='b', ls='-', marker='o', lw=0.5)\n",
    "\n",
    "#plt.plot(field, 0.01*eig_vals_vecs_4[:, state_73s_72_73] * En_h /(h * c), c='c', ls='-', marker='o', lw=0.5)\n",
    "#plt.plot(field, 0.01*eig_vals_vecs_4[:, state_73s_72_73-1] * En_h /(h * c), c='c', ls='-', marker='o', lw=0.5)\n",
    "\n",
    "plt.plot(field, 0.01*eig_vals_vecs_5[:, state_73s_72_73] * En_h /(h * c), c='y', ls='-', marker='o', lw=0.5)\n",
    "plt.plot(field, 0.01*eig_vals_vecs_5[:, state_73s_72_73-1] * En_h /(h * c), c='y', ls='-', marker='o', lw=0.5)\n",
    "\n",
    "#for s0 in trange(np.shape(eig_vals_vecs)[1], desc='Plotting'):\n",
    "#    plt.plot(field, 0.01*eig_vals_vecs[:, s0] * En_h /(h * c), c='k', ls='-', marker='', lw=0.5)\n",
    "\n",
    "# format\n",
    "#plt.ylim(-36.25, -36.22)\n",
    "#plt.xlim(0, 0.02)\n",
    "plt.xlabel('Electric field (V cm$^{-1}$)')\n",
    "plt.ylabel('Energy / $h c$ (cm$^{-1}$)')\n",
    "plt.tight_layout()"
   ]
  },
  {
   "cell_type": "code",
   "execution_count": null,
   "metadata": {
    "collapsed": true
   },
   "outputs": [],
   "source": []
  }
 ],
 "metadata": {
  "kernelspec": {
   "display_name": "Python 3",
   "language": "python",
   "name": "python3"
  },
  "language_info": {
   "codemirror_mode": {
    "name": "ipython",
    "version": 3
   },
   "file_extension": ".py",
   "mimetype": "text/x-python",
   "name": "python",
   "nbconvert_exporter": "python",
   "pygments_lexer": "ipython3",
   "version": "3.6.0"
  }
 },
 "nbformat": 4,
 "nbformat_minor": 2
}
