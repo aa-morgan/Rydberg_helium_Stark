{
 "cells": [
  {
   "cell_type": "code",
   "execution_count": 29,
   "metadata": {
    "collapsed": true
   },
   "outputs": [],
   "source": [
    "import numpy as np\n",
    "import matplotlib.pyplot as plt\n",
    "%matplotlib inline\n",
    "from starkhelium import *\n",
    "from scipy.constants import h, hbar, c, alpha, m_e, e, epsilon_0, atomic_mass, pi, physical_constants\n",
    "a_0 = physical_constants['Bohr radius'][0]\n",
    "ea_to_debye = 1/0.393430307"
   ]
  },
  {
   "cell_type": "code",
   "execution_count": 30,
   "metadata": {
    "collapsed": false
   },
   "outputs": [
    {
     "name": "stdout",
     "output_type": "stream",
     "text": [
      "Transition dipole moment:  3476.95686325  (a.u.)\n",
      "Transition dipole moment:  8837.54200271  Debye\n"
     ]
    }
   ],
   "source": [
    "n_1, l_1, m_1 = 70, 69, 69\n",
    "n_2, l_2, m_2 = 71, 70, 70\n",
    "transition_dipole_moment = np.abs(\n",
    "    stark_int(n_1, n_2, l_1, l_2, m_1, m_2, field_orientation='parallel')) * e*a_0 # in atomic units e a_0\n",
    "print('Transition dipole moment: ', transition_dipole_moment/(e*a_0), ' (a.u.)')\n",
    "print('Transition dipole moment: ', transition_dipole_moment*ea_to_debye/(e*a_0), ' Debye')"
   ]
  },
  {
   "cell_type": "code",
   "execution_count": 27,
   "metadata": {
    "collapsed": false
   },
   "outputs": [
    {
     "name": "stdout",
     "output_type": "stream",
     "text": [
      "1630.3029660951327\n",
      "0.5773502691896257\n"
     ]
    }
   ],
   "source": [
    "n_1, l_1, m_1 = 72, 0, 0\n",
    "n_2, l_2, m_2 = 71, 1, 0\n",
    "print(rad_overlap(n_1, n_2, l_1, l_2, p=1.0))\n",
    "print(ang_overlap(l_1, l_2, m_1, m_2, 'parallel', [-1,0,+1]))"
   ]
  },
  {
   "cell_type": "code",
   "execution_count": 15,
   "metadata": {
    "collapsed": false
   },
   "outputs": [
    {
     "name": "stdout",
     "output_type": "stream",
     "text": [
      "1.540657976472083\n",
      "-0.5773502691896257\n"
     ]
    }
   ],
   "source": [
    "n_1, l_1, m_1 = 1, 0, 0\n",
    "n_2, l_2, m_2 = 2, 1, 1\n",
    "print(rad_overlap(n_1, n_2, l_1, l_2, p=1.0))\n",
    "print(ang_overlap(l_1, l_2, m_1, m_2, 'parallel', [-1,0,+1]))"
   ]
  },
  {
   "cell_type": "code",
   "execution_count": 25,
   "metadata": {
    "collapsed": false
   },
   "outputs": [
    {
     "data": {
      "text/plain": [
       "[<matplotlib.lines.Line2D at 0x10ca9ba20>]"
      ]
     },
     "execution_count": 25,
     "metadata": {},
     "output_type": "execute_result"
    },
    {
     "data": {
      "image/png": "[encoded data removed]",
      "text/plain": [
       "<matplotlib.figure.Figure at 0x10cc39668>"
      ]
     },
     "metadata": {},
     "output_type": "display_data"
    }
   ],
   "source": [
    "tdm_cc = []\n",
    "tdm_sp = []\n",
    "for i in np.arange(1,80):\n",
    "    n_1 = i\n",
    "    l_1, m_1 = n_1-1, n_1-1\n",
    "    n_2 = n_1+1\n",
    "    l_2, m_2 = n_2-1, n_2-1\n",
    "    \n",
    "    transition_dipole_moment = np.abs(\n",
    "        stark_int(n_1, n_2, l_1, l_2, m_1, m_2, field_orientation='parallel')) * e*a_0 # in atomic units e a_0\n",
    "    #print('Transition dipole moment: ', transition_dipole_moment/(e*a_0), ' (a.u.)')\n",
    "    tdm_cc.append(transition_dipole_moment/(e*a_0))\n",
    "\n",
    "    n_1 = i\n",
    "    l_1, m_1 = 0, 0\n",
    "    n_2 = n_1+1\n",
    "    l_2, m_2 = 1, 0\n",
    "    \n",
    "    transition_dipole_moment = np.abs(\n",
    "        stark_int(n_1, n_2, l_1, l_2, m_1, m_2, field_orientation='parallel')) * e*a_0 # in atomic units e a_0\n",
    "    #print('Transition dipole moment: ', transition_dipole_moment/(e*a_0), ' (a.u.)')\n",
    "    tdm_sp.append(transition_dipole_moment/(e*a_0))\n",
    "    \n",
    "plt.plot(np.array(tdm_cc)/np.array(tdm_sp))\n",
    "#plt.plot(tdm_sp)"
   ]
  },
  {
   "cell_type": "code",
   "execution_count": null,
   "metadata": {
    "collapsed": true
   },
   "outputs": [],
   "source": []
  }
 ],
 "metadata": {
  "kernelspec": {
   "display_name": "Python 3",
   "language": "python",
   "name": "python3"
  },
  "language_info": {
   "codemirror_mode": {
    "name": "ipython",
    "version": 3
   },
   "file_extension": ".py",
   "mimetype": "text/x-python",
   "name": "python",
   "nbconvert_exporter": "python",
   "pygments_lexer": "ipython3",
   "version": "3.6.0"
  }
 },
 "nbformat": 4,
 "nbformat_minor": 2
}
