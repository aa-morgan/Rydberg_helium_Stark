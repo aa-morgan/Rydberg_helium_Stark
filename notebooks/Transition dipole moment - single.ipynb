{
 "cells": [
  {
   "cell_type": "code",
   "execution_count": 1,
   "metadata": {
    "collapsed": true
   },
   "outputs": [],
   "source": [
    "import numpy as np\n",
    "import matplotlib.pyplot as plt\n",
    "%matplotlib inline\n",
    "from starkhelium import *\n",
    "ea_to_debye = 1/0.393430307"
   ]
  },
  {
   "cell_type": "code",
   "execution_count": 2,
   "metadata": {},
   "outputs": [
    {
     "name": "stdout",
     "output_type": "stream",
     "text": [
      "Transition dipole moment:  3476.95686325  (a.u.)\n",
      "Transition dipole moment:  8837.54200271  Debye\n"
     ]
    }
   ],
   "source": [
    "n_1, l_1, m_1 = 70, 69, 69\n",
    "n_2, l_2, m_2 = 71, 70, 70\n",
    "field_orientation='parallel'\n",
    "dm_allow=[0,-1,+1]\n",
    "step_params=['flat',0.005]\n",
    "transition_dipole_moment = np.abs(stark_int(n_1, n_2, l_1, l_2, m_1, m_2, \n",
    "                                  field_orientation, dm_allow, step_params)) * e*a_0 # in atomic units e a_0\n",
    "print('Transition dipole moment: ', transition_dipole_moment/(e*a_0), ' (a.u.)')\n",
    "print('Transition dipole moment: ', transition_dipole_moment*ea_to_debye/(e*a_0), ' Debye')"
   ]
  },
  {
   "cell_type": "code",
   "execution_count": 3,
   "metadata": {},
   "outputs": [
    {
     "data": {
      "image/png": "[encoded data removed]",
      "text/plain": [
       "<matplotlib.figure.Figure at 0x108f5ed30>"
      ]
     },
     "metadata": {},
     "output_type": "display_data"
    }
   ],
   "source": [
    "tdm_cc = []\n",
    "tdm_sp = []\n",
    "for i in np.arange(1,80):\n",
    "    n_1 = i\n",
    "    l_1, m_1 = n_1-1, n_1-1\n",
    "    n_2 = n_1+1\n",
    "    l_2, m_2 = n_2-1, n_2-1\n",
    "    \n",
    "    transition_dipole_moment = np.abs( stark_int(n_1, n_2, l_1, l_2, m_1, m_2, \n",
    "                                       field_orientation, dm_allow, step_params)) * e*a_0 # in atomic units e a_0\n",
    "    #print('Transition dipole moment: ', transition_dipole_moment/(e*a_0), ' (a.u.)')\n",
    "    tdm_cc.append(transition_dipole_moment/(e*a_0))\n",
    "\n",
    "    n_1 = i\n",
    "    l_1, m_1 = 0, 0\n",
    "    n_2 = n_1+1\n",
    "    l_2, m_2 = 1, 0\n",
    "    \n",
    "    transition_dipole_moment = np.abs( stark_int(n_1, n_2, l_1, l_2, m_1, m_2, \n",
    "                                       field_orientation, dm_allow, step_params)) * e*a_0 # in atomic units e a_0\n",
    "    #print('Transition dipole moment: ', transition_dipole_moment/(e*a_0), ' (a.u.)')\n",
    "    tdm_sp.append(transition_dipole_moment/(e*a_0))\n",
    "    \n",
    "plt.plot(np.array(tdm_cc)/np.array(tdm_sp))\n",
    "plt.xlabel('n')\n",
    "plt.ylabel('TDM(c-c) / TDM(s-p)')\n",
    "plt.grid()"
   ]
  },
  {
   "cell_type": "code",
   "execution_count": null,
   "metadata": {
    "collapsed": true
   },
   "outputs": [],
   "source": []
  }
 ],
 "metadata": {
  "kernelspec": {
   "display_name": "Python 3",
   "language": "python",
   "name": "python3"
  },
  "language_info": {
   "codemirror_mode": {
    "name": "ipython",
    "version": 3
   },
   "file_extension": ".py",
   "mimetype": "text/x-python",
   "name": "python",
   "nbconvert_exporter": "python",
   "pygments_lexer": "ipython3",
   "version": "3.6.1"
  }
 },
 "nbformat": 4,
 "nbformat_minor": 2
}
