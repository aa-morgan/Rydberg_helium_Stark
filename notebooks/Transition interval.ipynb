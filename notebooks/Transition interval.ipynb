{
 "cells": [
  {
   "cell_type": "markdown",
   "metadata": {},
   "source": [
    "# Transition interval between two Rydberg states"
   ]
  },
  {
   "cell_type": "code",
   "execution_count": 1,
   "metadata": {
    "collapsed": true
   },
   "outputs": [],
   "source": [
    "import os\n",
    "import numpy as np\n",
    "import matplotlib.pyplot as plt\n",
    "%matplotlib inline\n",
    "from starkhelium import *\n",
    "from scipy.optimize import curve_fit"
   ]
  },
  {
   "cell_type": "markdown",
   "metadata": {},
   "source": [
    "## Field-free transition"
   ]
  },
  {
   "cell_type": "code",
   "execution_count": 2,
   "metadata": {},
   "outputs": [
    {
     "name": "stdout",
     "output_type": "stream",
     "text": [
      "The field-free transition frequency is 39.1184 GHz\n"
     ]
    }
   ],
   "source": [
    "# quantum numbers\n",
    "S = 1\n",
    "n0, l0, j0 = 55, 0, 1\n",
    "n1, l1, j1 = 56, 0, 1\n",
    "# quantum defects\n",
    "neff_01 =  np.array([n0, n1]) - get_qd(S, [n0, n1], [l0, l1], [j0, j1])\n",
    "# field-free energies\n",
    "en = En_0(neff_01)\n",
    "# transition (atomic units)\n",
    "tran = en[1] - en[0]\n",
    "# frequency (if result is nan, check that j0 and j1 make sense)\n",
    "print(\"The field-free transition frequency is %.4f GHz\"%(1e-9 * tran * En_h / h))"
   ]
  },
  {
   "cell_type": "markdown",
   "metadata": {},
   "source": [
    "## Stark effect"
   ]
  },
  {
   "cell_type": "code",
   "execution_count": 6,
   "metadata": {},
   "outputs": [
    {
     "name": "stderr",
     "output_type": "stream",
     "text": [
      "calculate Stark terms: 100%|██████████| 605/605 [00:06<00:00, 94.00it/s] \n"
     ]
    }
   ],
   "source": [
    "# quantum numbers for Stark matrix\n",
    "nmin = 50\n",
    "nmax = 60\n",
    "m = 0\n",
    "n_vals, L_vals = get_nl_vals(nmin, nmax, m)\n",
    "J_vals = get_J_vals(S, L_vals, 1)\n",
    "# quantum defects\n",
    "neff = n_vals - get_qd(S, n_vals, L_vals, J_vals)\n",
    "# field-free Hamiltonian\n",
    "H_0 = np.diag(En_0(neff))\n",
    "field_orientation = 'parallel'\n",
    "# find the off-diagonal terms of the Stark interaction matrix\n",
    "mat_S = stark_matrix_select_m(neff, L_vals, m, field_orientation)"
   ]
  },
  {
   "cell_type": "code",
   "execution_count": 7,
   "metadata": {},
   "outputs": [
    {
     "name": "stderr",
     "output_type": "stream",
     "text": [
      "diagonalise Hamiltonian: 100%|██████████| 501/501 [00:16<00:00, 27.05it/s]\n"
     ]
    }
   ],
   "source": [
    "# specify the electric field\n",
    "field = np.linspace(0, 0.2, 501) # V /cm\n",
    "field_au = field * 100 * e * a_0 / En_h\n",
    "# diagonalise\n",
    "map1 = stark_map(H_0, mat_S, field_au)"
   ]
  },
  {
   "cell_type": "code",
   "execution_count": 10,
   "metadata": {},
   "outputs": [
    {
     "data": {
      "image/png": "[encoded data removed]",
      "text/plain": [
       "<matplotlib.figure.Figure at 0x1143bbbe0>"
      ]
     },
     "metadata": {},
     "output_type": "display_data"
    }
   ],
   "source": [
    "# fit function\n",
    "def quad(x, a, c):\n",
    "    return -a * x**2.0 + c\n",
    "\n",
    "# transition states (assuming states do not cross)\n",
    "idx0 = np.intersect1d(np.where(n_vals == n0), np.where(L_vals == l0))[0]\n",
    "idx1 = np.intersect1d(np.where(n_vals == n1), np.where(L_vals == l1))[0]\n",
    "\n",
    "# plot Stark shift\n",
    "fig, ax = plt.subplots(figsize=(6, 4))\n",
    "\n",
    "xvals = field\n",
    "yvals = 1e-6*(map1[:, idx1] - map1[:, idx0]) * En_h /h\n",
    "ax.plot(xvals, yvals, c='r', ls='-')\n",
    "\n",
    "# fit\n",
    "p0 = [-4.0e2, np.max(yvals)]\n",
    "popt, pcov = curve_fit(quad, xvals, yvals, p0=p0)\n",
    "perr = pcov.diagonal()**0.5 \n",
    "fit_info = '$a = %.4f \\pm %.4f $ MHz cm$^2$ / V$^2$ \\n$c = %.4f \\pm %.4f $ MHz' % \\\n",
    "           (popt[0], perr[0], popt[1], perr[1])\n",
    "yfit = quad(xvals, *popt)\n",
    "ax.plot(xvals, yfit, c='k', alpha=0.5, ls='--')\n",
    "\n",
    "# format\n",
    "ax.text(0.05, 0.1, fit_info, transform=ax.transAxes)\n",
    "ax.set_xlabel('Electric field (V cm$^{-1}$)')\n",
    "ax.set_ylabel('Energy / $h$ (MHz)')\n",
    "plt.tight_layout()\n",
    "# output\n",
    "fileout = os.path.join(\".\", \"figures\", \"55s-56s_stark_shift.png\")\n",
    "plt.savefig(fileout)\n",
    "plt.show()"
   ]
  },
  {
   "cell_type": "code",
   "execution_count": null,
   "metadata": {
    "collapsed": true
   },
   "outputs": [],
   "source": []
  }
 ],
 "metadata": {
  "kernelspec": {
   "display_name": "Python 3",
   "language": "python",
   "name": "python3"
  },
  "language_info": {
   "codemirror_mode": {
    "name": "ipython",
    "version": 3
   },
   "file_extension": ".py",
   "mimetype": "text/x-python",
   "name": "python",
   "nbconvert_exporter": "python",
   "pygments_lexer": "ipython3",
   "version": "3.6.1"
  }
 },
 "nbformat": 4,
 "nbformat_minor": 2
}
