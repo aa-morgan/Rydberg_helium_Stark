{
 "cells": [
  {
   "cell_type": "markdown",
   "metadata": {},
   "source": [
    "# Stark map for Rydberg helium"
   ]
  },
  {
   "cell_type": "code",
   "execution_count": 1,
   "metadata": {
    "collapsed": false
   },
   "outputs": [
    {
     "name": "stdout",
     "output_type": "stream",
     "text": [
      "v0.5\n"
     ]
    }
   ],
   "source": [
    "import os\n",
    "import numpy as np\n",
    "import matplotlib.pyplot as plt\n",
    "%matplotlib inline\n",
    "from starkhelium import *\n",
    "from tqdm import trange, tqdm\n",
    "print(starkhelium_version())"
   ]
  },
  {
   "cell_type": "code",
   "execution_count": 2,
   "metadata": {
    "collapsed": false
   },
   "outputs": [],
   "source": [
    "#import inspect as insp\n",
    "#insp.getsourcelines(ang_overlap)"
   ]
  },
  {
   "cell_type": "code",
   "execution_count": 3,
   "metadata": {
    "collapsed": true
   },
   "outputs": [],
   "source": [
    "# User variables\n",
    "  # Whether to import the Stark interaction matrix, or calculate it\n",
    "IMPORT_MAT_S = False\n",
    "  # If calculating the Stark interaction matrix, whether to save it\n",
    "SAVE_MAT_S = True\n",
    "  # Whether to import the Stark data\n",
    "IMPORT_STARK_MAP_DATA = False\n",
    "  # Whether to save the Stark map data\n",
    "SAVE_STARK_MAP_DATA = True\n",
    "  # Whether to plot the Stark map\n",
    "PLOT_STARK_MAP = True\n",
    "  # If plot Stark map, whether to highlight specified lines\n",
    "HIGHLIGHT_STARK_MAP_PLOT = False\n",
    "  # If plot Stark map, whether to save out figure\n",
    "SAVE_STARK_MAP_PLOT = True"
   ]
  },
  {
   "cell_type": "code",
   "execution_count": 4,
   "metadata": {
    "collapsed": true
   },
   "outputs": [],
   "source": [
    "def getDataDir():\n",
    "    # Create data directoy if it doesn't exist\n",
    "    directory = os.path.join(\".\", \"data\")\n",
    "    if not os.path.exists(directory):\n",
    "        os.makedirs(directory)\n",
    "    return directory\n",
    "def getImagesDir():\n",
    "    # Create data directoy if it doesn't exist\n",
    "    directory = os.path.join(\".\", \"images\")\n",
    "    if not os.path.exists(directory):\n",
    "        os.makedirs(directory)\n",
    "    return directory"
   ]
  },
  {
   "cell_type": "code",
   "execution_count": 5,
   "metadata": {
    "collapsed": false,
    "scrolled": false
   },
   "outputs": [
    {
     "name": "stderr",
     "output_type": "stream",
     "text": [
      "calculate Stark terms: 100%|███████████| 30691/30691 [3:49:01<00:00,  2.23it/s]\n"
     ]
    }
   ],
   "source": [
    "# quantum numbers\n",
    "nmin = 69\n",
    "nmax = 74\n",
    "S = 1\n",
    "n_vals, L_vals, m_vals = get_nlm_vals(nmin, nmax)\n",
    "J_vals = get_J_vals(S, L_vals, 1)\n",
    "# quantum defects\n",
    "neff = n_vals - get_qd(S, n_vals, L_vals, J_vals)\n",
    "# energy levels\n",
    "En = W_n(S, n_vals, L_vals, J_vals)\n",
    "#En = En_0(neff)\n",
    "# field orientation\n",
    "field_orientation = 'crossed'\n",
    "# field-free Hamiltonian\n",
    "H_0 = np.diag(En)\n",
    "# Numerov step size\n",
    "numerov_step=0.001\n",
    "\n",
    "if (IMPORT_MAT_S):\n",
    "    filename = \"StarkIntMatrix_n_\" + str(nmin) + \"-\" + str(nmax) + \"_step_\" + str(numerov_step).replace('.', '-') + \".npy\"\n",
    "    directory = getDataDir()\n",
    "    filein = os.path.join(directory, filename)\n",
    "    try:\n",
    "        mat_S = np.load(filein)\n",
    "    except:\n",
    "        raise\n",
    "else:\n",
    "    # find the off-diagonal terms of the Stark interaction matrix\n",
    "    mat_S = stark_matrix(neff, L_vals, m_vals, field_orientation, numerov_step=numerov_step)\n",
    "    if SAVE_MAT_S:\n",
    "        # Create fileaname for Stark map\n",
    "        filename = \"StarkIntMatrix_n_\" + str(nmin) + \"-\" + str(nmax)\n",
    "        # Get data directoy, create it if it doesn't exist\n",
    "        directory = getDataDir()\n",
    "        # Save Stark interaction matrix to file\n",
    "        fileout = os.path.join(directory, filename)\n",
    "        np.save(fileout, mat_S)"
   ]
  },
  {
   "cell_type": "code",
   "execution_count": 11,
   "metadata": {
    "collapsed": false
   },
   "outputs": [],
   "source": [
    "# specify the electric field\n",
    "field = np.linspace(3.22, 3.29, 13) # V /cm\n",
    "field_au = field * 100 / (En_h_He/(e*a_0_He)) \n",
    "# specify the magnetic field (in Telsa)\n",
    "B_z = 1.5776E-3\n",
    "# (in atomic units)\n",
    "B_z_au = B_z / (hbar/(e*a_0_He**2))\n",
    "# Zeeman interaction Hamiltonian\n",
    "H_Z = np.diag(E_zeeman(m_vals, B_z_au))\n",
    "\n",
    "# Create fileaname for Stark map data\n",
    "filename = \"StarkMapData_n_\" + str(nmin) + \"-\" + str(nmax) + \\\n",
    "\"_E_\" + str(np.min(field)).replace('.', '-') + \"_\" + str(np.max(field)).replace('.', '-') + \"_\" + str(len(field)) + \\\n",
    "\"_B_\" + str(B_z*1E3).replace('.', '-') + '.npy'\n",
    "\n",
    "if (IMPORT_STARK_MAP_DATA):\n",
    "    filein = os.path.join(getDataDir(), filename)\n",
    "    try:\n",
    "        map1 = np.load(filein)\n",
    "    except:\n",
    "        raise\n",
    "else: \n",
    "    # diagonalise for each field\n",
    "    map1 = stark_map(H_0, mat_S, field_au, H_Z=H_Z)\n",
    "    if SAVE_STARK_MAP_DATA==True:\n",
    "        # Save Stark map to file\n",
    "        fileout = os.path.join(getDataDir(), filename)\n",
    "        np.save(fileout, map1)"
   ]
  },
  {
   "cell_type": "code",
   "execution_count": 13,
   "metadata": {
    "collapsed": false
   },
   "outputs": [
    {
     "name": "stderr",
     "output_type": "stream",
     "text": [
      "Plotting: 100%|████████████████████████| 6161/6161 [00:00<00:00, 616056.52it/s]\n"
     ]
    },
    {
     "data": {
      "image/png": "[encoded data removed]",
      "text/plain": [
       "<matplotlib.figure.Figure at 0x3641c780>"
      ]
     },
     "metadata": {},
     "output_type": "display_data"
    }
   ],
   "source": [
    "if(PLOT_STARK_MAP):\n",
    "    # Stark map\n",
    "    fig, ax = plt.subplots(figsize=(10, 6))\n",
    "\n",
    "    #idx = np.intersect1d(np.where(n_vals == 55), np.where(m_vals <= 0))\n",
    "    #for i in tqdm(idx, desc='Highlighting'):\n",
    "    #    ax.plot(field, 0.01*map1[:, i] * En_h_He /(h * c), c='r', ls='-', lw=1.5)\n",
    "        \n",
    "    #idx = np.intersect1d(np.where(n_vals == 55), np.where(m_vals >= 0))\n",
    "    #for i in tqdm(idx, desc='Highlighting'):\n",
    "    #    ax.plot(field, 0.01*map1[:, i] * En_h_He /(h * c), c='b', ls='-', lw=1.5)\n",
    "    \n",
    "    #for s0 in trange(np.shape(map1)[1], desc='Plotting'):\n",
    "    #    ax.plot(field, map1[:, s0] * (En_h_He / h) / 10**9, c='b', ls='-', marker='', lw=3)\n",
    "    \n",
    "    state_56s = 55**2\n",
    "    states = [state_56s, state_56s-1, state_56s-2, state_56s-3]\n",
    "    for s0 in trange(np.shape(map1)[1], desc='Plotting'):\n",
    "        if s0 in states:\n",
    "            ax.plot(field, map1[:, s0] * (En_h_He / h) / 10**9, c='b', ls='--', marker='x', lw=3)\n",
    "\n",
    "    if(HIGHLIGHT_STARK_MAP_PLOT):\n",
    "    # highlight (assuming states do not cross)\n",
    "        idx = np.intersect1d(np.where(n_vals == 40), np.where(L_vals == 0))\n",
    "        for i in tqdm(idx, desc='Highlighting'):\n",
    "            ax.plot(field, map1[:, i] * (En_h_He / h) / 10**9, c='r', ls='-', lw=1.5)\n",
    "\n",
    "    # format\n",
    "    ax.set_ylim(-1069.8, -1068.8)\n",
    "    ax.set_xlim(3.22, 3.29)\n",
    "    ax.set_xlabel('Electric field (V cm$^{-1}$)')\n",
    "    ax.set_ylabel('Energy / $h c$ (cm$^{-1}$)')\n",
    "    plt.tight_layout()\n",
    "    # output\n",
    "    if SAVE_STARK_MAP_PLOT==True:\n",
    "        # Create fileaname for Stark map\n",
    "        filename = \"StarkMapPlot_n_\" + str(nmin) + \"-\" + str(nmax) + \\\n",
    "        \"_E_\" + str(np.min(field)).replace('.', '-') + \"_\" + str(np.max(field)).replace('.', '-') + \"_\" + str(len(field)) + \\\n",
    "        \"_B_\" + str(B_z*1E3).replace('.', '-') + \".png\"\n",
    "        # Get images directoy, create it if it doesn't exist\n",
    "        directory = getImagesDir()\n",
    "        # Save Stark map to file\n",
    "        fileout = os.path.join(directory, filename)\n",
    "        plt.savefig(fileout)\n",
    "    plt.show()\n",
    "    plt.show()"
   ]
  },
  {
   "cell_type": "markdown",
   "metadata": {},
   "source": [
    "# Write and Read files"
   ]
  },
  {
   "cell_type": "code",
   "execution_count": 69,
   "metadata": {
    "collapsed": false
   },
   "outputs": [
    {
     "data": {
      "text/plain": [
       "54.931645891323221"
      ]
     },
     "execution_count": 69,
     "metadata": {},
     "output_type": "execute_result"
    }
   ],
   "source": [
    "55-get_qd(S, [55], [1], [2])[0]"
   ]
  },
  {
   "cell_type": "code",
   "execution_count": 61,
   "metadata": {
    "collapsed": false
   },
   "outputs": [
    {
     "data": {
      "text/plain": [
       "4.3591471215799256e-18"
      ]
     },
     "execution_count": 61,
     "metadata": {},
     "output_type": "execute_result"
    }
   ],
   "source": [
    "En_h_He"
   ]
  },
  {
   "cell_type": "code",
   "execution_count": 73,
   "metadata": {
    "collapsed": false
   },
   "outputs": [
    {
     "data": {
      "text/plain": [
       "33.32409581817284"
      ]
     },
     "execution_count": 73,
     "metadata": {},
     "output_type": "execute_result"
    }
   ],
   "source": [
    "n_1, l_1, m_1 = 5-get_qd(S, [5], [0], [1])[0], 0, 0\n",
    "n_2, l_2, m_2 = 5-get_qd(S, [5], [1], [2])[0], 1, -1\n",
    "rmin = 0.65\n",
    "step = 0.005\n",
    "rad_overlap(n_1, n_2, l_1, l_2, rmin, step, p=1.0)"
   ]
  },
  {
   "cell_type": "code",
   "execution_count": 74,
   "metadata": {
    "collapsed": false
   },
   "outputs": [
    {
     "data": {
      "text/plain": [
       "0.408248290463863"
      ]
     },
     "execution_count": 74,
     "metadata": {},
     "output_type": "execute_result"
    }
   ],
   "source": [
    "ang_overlap(l_1, l_2, m_1, m_2, 'crossed', [0,-1,+1])"
   ]
  },
  {
   "cell_type": "code",
   "execution_count": 76,
   "metadata": {
    "collapsed": false
   },
   "outputs": [
    {
     "data": {
      "text/plain": [
       "13.60450514902303"
      ]
     },
     "execution_count": 76,
     "metadata": {},
     "output_type": "execute_result"
    }
   ],
   "source": [
    "rad_overlap(n_1, n_2, l_1, l_2, rmin, step, p=1.0) * ang_overlap(l_1, l_2, m_1, m_2, 'crossed', [0,-1,+1])"
   ]
  },
  {
   "cell_type": "code",
   "execution_count": 3,
   "metadata": {
    "collapsed": false
   },
   "outputs": [
    {
     "data": {
      "text/plain": [
       "7349.251267433513"
      ]
     },
     "execution_count": 3,
     "metadata": {},
     "output_type": "execute_result"
    }
   ],
   "source": [
    "n1, l1 = 70, 0\n",
    "n2, l2 = 70, 1\n",
    "rmin = 0.65\n",
    "step = 0.001\n",
    "rad_overlap(n1, n2, l1, l2, rmin, step, p=1.0)"
   ]
  },
  {
   "cell_type": "code",
   "execution_count": 10,
   "metadata": {
    "collapsed": false
   },
   "outputs": [
    {
     "data": {
      "text/plain": [
       "7349.251423908925"
      ]
     },
     "execution_count": 10,
     "metadata": {},
     "output_type": "execute_result"
    }
   ],
   "source": [
    "n1, l1 = 70, 0\n",
    "n2, l2 = 70, 1\n",
    "rmin = 0.65\n",
    "step = 0.0001\n",
    "rad_overlap(n1, n2, l1, l2, rmin, step, p=1.0)"
   ]
  },
  {
   "cell_type": "code",
   "execution_count": 33,
   "metadata": {
    "collapsed": false
   },
   "outputs": [
    {
     "data": {
      "text/plain": [
       "array([  2.96669286e-01,   6.83541087e-02,   2.88922692e-03,\n",
       "         4.46804324e-04,   1.26878367e-04,   4.85866290e-05])"
      ]
     },
     "execution_count": 33,
     "metadata": {},
     "output_type": "execute_result"
    }
   ],
   "source": [
    "get_qd(1, [55,55,55,55,55,55], [0,1,2,3,4,5], [1,2,3,4,5,6])"
   ]
  },
  {
   "cell_type": "code",
   "execution_count": 11,
   "metadata": {
    "collapsed": false
   },
   "outputs": [
    {
     "name": "stdout",
     "output_type": "stream",
     "text": [
      "[54 54 54 ..., 56 56 56]\n",
      "[ 0  1  1 ..., 55 55 55]\n",
      "[ 1  2  2 ..., 56 56 56]\n"
     ]
    }
   ],
   "source": [
    "print(n_vals)\n",
    "print(L_vals)\n",
    "print(J_vals)"
   ]
  },
  {
   "cell_type": "code",
   "execution_count": null,
   "metadata": {
    "collapsed": true
   },
   "outputs": [],
   "source": []
  }
 ],
 "metadata": {
  "kernelspec": {
   "display_name": "Python 3",
   "language": "python",
   "name": "python3"
  },
  "language_info": {
   "codemirror_mode": {
    "name": "ipython",
    "version": 3
   },
   "file_extension": ".py",
   "mimetype": "text/x-python",
   "name": "python",
   "nbconvert_exporter": "python",
   "pygments_lexer": "ipython3",
   "version": "3.6.0"
  }
 },
 "nbformat": 4,
 "nbformat_minor": 2
}
