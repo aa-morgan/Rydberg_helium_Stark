{
 "cells": [
  {
   "cell_type": "markdown",
   "metadata": {},
   "source": [
    "# Stark map for Rydberg helium"
   ]
  },
  {
   "cell_type": "code",
   "execution_count": 1,
   "metadata": {
    "collapsed": false
   },
   "outputs": [],
   "source": [
    "import os\n",
    "import numpy as np\n",
    "import matplotlib.pyplot as plt\n",
    "%matplotlib inline\n",
    "from starkhelium import *\n",
    "from tqdm import trange, tqdm"
   ]
  },
  {
   "cell_type": "code",
   "execution_count": 2,
   "metadata": {
    "collapsed": false,
    "scrolled": false
   },
   "outputs": [
    {
     "name": "stderr",
     "output_type": "stream",
     "text": [
      "calculate Stark terms: 100%|██████████| 2500/2500 [00:45<00:00, 54.96it/s] \n"
     ]
    }
   ],
   "source": [
    "# quantum numbers\n",
    "nmin = 50\n",
    "nmax = 50\n",
    "S = 1\n",
    "n_vals, L_vals, m_vals = get_nlm_vals(nmin, nmax)\n",
    "J_vals = get_J_vals(S, L_vals, 1)\n",
    "# quantum defects\n",
    "neff = n_vals - get_qd(S, n_vals, L_vals, J_vals)\n",
    "# energy levels\n",
    "En = W_n(S, n_vals, L_vals, J_vals)\n",
    "# field-free Hamiltonian\n",
    "H_0 = np.diag(En)\n",
    "# find the off-diagonal terms of the Stark interaction matrix\n",
    "mat_S = stark_matrix(neff, L_vals, m_vals)"
   ]
  },
  {
   "cell_type": "code",
   "execution_count": 3,
   "metadata": {
    "collapsed": false
   },
   "outputs": [
    {
     "name": "stderr",
     "output_type": "stream",
     "text": [
      "diagonalise Hamiltonian: 100%|██████████| 11/11 [00:45<00:00,  4.01s/it]\n"
     ]
    }
   ],
   "source": [
    "# specify the electric field\n",
    "field = np.linspace(0.00, 0.50, 11) # V /cm\n",
    "field_au = field * 100 * e * a_0 / En_h\n",
    "# specify the magnetic field (in Telsa)\n",
    "B_z = 1.5776E-3 / (2.35*10**5)\n",
    "# Zeeman interaction Hamiltonian\n",
    "H_Z = np.diag(E_zeeman(m_vals, B_z))\n",
    "# diagonalise for each field\n",
    "map1 = stark_map(H_0, mat_S, field_au, H_Z=H_Z)"
   ]
  },
  {
   "cell_type": "code",
   "execution_count": 4,
   "metadata": {
    "collapsed": false
   },
   "outputs": [
    {
     "name": "stderr",
     "output_type": "stream",
     "text": [
      "Plotting: 100%|██████████| 2500/2500 [00:08<00:00, 279.87it/s]\n"
     ]
    },
    {
     "data": {
      "image/png": "[encoded data removed]",
      "text/plain": [
       "<matplotlib.figure.Figure at 0x11c407208>"
      ]
     },
     "metadata": {},
     "output_type": "display_data"
    }
   ],
   "source": [
    "# Stark map\n",
    "fig, ax = plt.subplots(figsize=(10, 6))\n",
    "\n",
    "for s0 in trange(np.shape(map1)[1], desc='Plotting'):\n",
    "    ax.plot(field, 0.01*map1[:, s0] * En_h /(h * c), c='k', ls='-', marker='', lw=0.5)\n",
    "\n",
    "# highlight (assuming states do not cross)\n",
    "#idx = np.intersect1d(np.where(n_vals == 40), np.where(L_vals == 0))\n",
    "#for i in tqdm(idx, desc='Highlighting'):\n",
    "#    ax.plot(field, 0.01*map1[:, i] * En_h /(h * c), c='r', ls='-', lw=1.5)\n",
    "    \n",
    "# format\n",
    "#ax.set_ylim(-70.8, -70)\n",
    "#ax.set_xlim(0, 10)\n",
    "ax.set_xlabel('Electric field (V cm$^{-1}$)')\n",
    "ax.set_ylabel('Energy / $h c$ (cm$^{-1}$)')\n",
    "plt.tight_layout()\n",
    "# output\n",
    "fileout = os.path.join(\"..\", \"images\", \"n50-n60_stark_map.png\")\n",
    "plt.savefig(fileout)\n",
    "plt.show()\n",
    "plt.show()"
   ]
  },
  {
   "cell_type": "markdown",
   "metadata": {},
   "source": [
    "# Write and Read files"
   ]
  },
  {
   "cell_type": "code",
   "execution_count": 5,
   "metadata": {
    "collapsed": true
   },
   "outputs": [],
   "source": [
    "fileout = os.path.join(\"..\", \"data\", \"E_0-00_0-50_11_B_1-5776.csv\")\n",
    "np.savetxt(fileout, map1, delimiter=\",\")"
   ]
  },
  {
   "cell_type": "code",
   "execution_count": 6,
   "metadata": {
    "collapsed": true
   },
   "outputs": [],
   "source": [
    "filein = os.path.join(\"..\", \"data\", \"E_0-00_0-50_11_B_1-5776.csv\")\n",
    "map2 = np.genfromtxt(filein, delimiter=\",\")"
   ]
  },
  {
   "cell_type": "code",
   "execution_count": null,
   "metadata": {
    "collapsed": true
   },
   "outputs": [],
   "source": []
  }
 ],
 "metadata": {
  "kernelspec": {
   "display_name": "Python 3",
   "language": "python",
   "name": "python3"
  },
  "language_info": {
   "codemirror_mode": {
    "name": "ipython",
    "version": 3
   },
   "file_extension": ".py",
   "mimetype": "text/x-python",
   "name": "python",
   "nbconvert_exporter": "python",
   "pygments_lexer": "ipython3",
   "version": "3.6.0"
  }
 },
 "nbformat": 4,
 "nbformat_minor": 2
}
