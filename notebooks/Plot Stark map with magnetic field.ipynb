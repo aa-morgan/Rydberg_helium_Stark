{
 "cells": [
  {
   "cell_type": "markdown",
   "metadata": {},
   "source": [
    "# Stark map for Rydberg helium"
   ]
  },
  {
   "cell_type": "code",
   "execution_count": 1,
   "metadata": {
    "collapsed": false
   },
   "outputs": [],
   "source": [
    "import os\n",
    "import numpy as np\n",
    "import matplotlib.pyplot as plt\n",
    "%matplotlib inline\n",
    "from starkhelium import *\n",
    "from tqdm import trange, tqdm"
   ]
  },
  {
   "cell_type": "code",
   "execution_count": 2,
   "metadata": {
    "collapsed": true
   },
   "outputs": [],
   "source": [
    "# User variables\n",
    "  # Whether to import the Stark interaction matrix, or calculate it\n",
    "IMPORT_MAT_S = True\n",
    "  # If calculating the Stark interaction matrix, whether to save it\n",
    "SAVE_MAT_S = True\n",
    "  # Whether to plot the Stark map\n",
    "PLOT_STARK_MAP = True\n",
    "  # If plot Stark map, whether to highlight specified lines\n",
    "HIGHLIGHT_STARK_MAP_PLOT = False\n",
    "  # If plot Stark map, whether to save out figure\n",
    "SAVE_STARK_MAP_PLOT = True\n",
    "  # Whether to save the Stark map data\n",
    "SAVE_STARK_MAP_DATA = True"
   ]
  },
  {
   "cell_type": "code",
   "execution_count": 3,
   "metadata": {
    "collapsed": true
   },
   "outputs": [],
   "source": [
    "def getDataDir():\n",
    "    # Create data directoy if it doesn't exist\n",
    "    directory = os.path.join(\".\", \"data\")\n",
    "    if not os.path.exists(directory):\n",
    "        os.makedirs(directory)\n",
    "    return directory\n",
    "def getImagesDir():\n",
    "    # Create data directoy if it doesn't exist\n",
    "    directory = os.path.join(\".\", \"images\")\n",
    "    if not os.path.exists(directory):\n",
    "        os.makedirs(directory)\n",
    "    return directory"
   ]
  },
  {
   "cell_type": "code",
   "execution_count": 5,
   "metadata": {
    "collapsed": false,
    "scrolled": false
   },
   "outputs": [],
   "source": [
    "# quantum numbers\n",
    "nmin = 20\n",
    "nmax = 20\n",
    "S = 1\n",
    "n_vals, L_vals, m_vals = get_nlm_vals(nmin, nmax)\n",
    "J_vals = get_J_vals(S, L_vals, 1)\n",
    "# quantum defects\n",
    "neff = n_vals - get_qd(S, n_vals, L_vals, J_vals)\n",
    "# energy levels\n",
    "En = W_n(S, n_vals, L_vals, J_vals)\n",
    "# field-free Hamiltonian\n",
    "H_0 = np.diag(En)\n",
    "if (IMPORT_MAT_S):\n",
    "    filename = \"StarkIntMatrix_n_\" + str(nmin) + \"-\" + str(nmax) + \".npy\"\n",
    "    directory = getDataDir()\n",
    "    filein = os.path.join(directory, filename)\n",
    "    try:\n",
    "        mat_S = np.load(filein)\n",
    "    except:\n",
    "        raise\n",
    "        \n",
    "else:\n",
    "    # find the off-diagonal terms of the Stark interaction matrix\n",
    "    mat_S = stark_matrix(neff, L_vals, m_vals)\n",
    "    if SAVE_MAT_S:\n",
    "        # Create fileaname for Stark map\n",
    "        filename = \"StarkIntMatrix_n_\" + str(nmin) + \"-\" + str(nmax)\n",
    "        # Get data directoy, create it if it doesn't exist\n",
    "        directory = getDataDir()\n",
    "        # Save Stark interaction matrix to file\n",
    "        fileout = os.path.join(directory, filename)\n",
    "        np.save(fileout, mat_S)"
   ]
  },
  {
   "cell_type": "code",
   "execution_count": 6,
   "metadata": {
    "collapsed": false
   },
   "outputs": [
    {
     "name": "stderr",
     "output_type": "stream",
     "text": [
      "diagonalise Hamiltonian: 100%|█████████████████| 11/11 [00:00<00:00, 14.68it/s]\n"
     ]
    }
   ],
   "source": [
    "# specify the electric field\n",
    "field = np.linspace(0.00, 4.0, 11) # V /cm\n",
    "field_au = field * 100 * e * a_0 / En_h\n",
    "# specify the magnetic field (in Telsa)\n",
    "B_z = 1.5776E-3\n",
    "# (in atomic units)\n",
    "B_z_au = B_z / (2.35*10**5)\n",
    "# Zeeman interaction Hamiltonian\n",
    "H_Z = np.diag(E_zeeman(m_vals, B_z_au))\n",
    "# diagonalise for each field\n",
    "map1 = stark_map(H_0, mat_S, field_au, H_Z=H_Z)"
   ]
  },
  {
   "cell_type": "code",
   "execution_count": 8,
   "metadata": {
    "collapsed": false
   },
   "outputs": [
    {
     "name": "stderr",
     "output_type": "stream",
     "text": [
      "Plotting: 100%|█████████████████████████████| 400/400 [00:00<00:00, 622.65it/s]\n"
     ]
    },
    {
     "data": {
      "image/png": "[encoded data removed]",
      "text/plain": [
       "<matplotlib.figure.Figure at 0x918a550>"
      ]
     },
     "metadata": {},
     "output_type": "display_data"
    }
   ],
   "source": [
    "if(PLOT_STARK_MAP):\n",
    "    # Stark map\n",
    "    fig, ax = plt.subplots(figsize=(10, 6))\n",
    "\n",
    "    for s0 in trange(np.shape(map1)[1], desc='Plotting'):\n",
    "        ax.plot(field, 0.01*map1[:, s0] * En_h /(h * c), c='k', ls='-', marker='', lw=0.5)\n",
    "\n",
    "    if(HIGHLIGHT_STARK_MAP_PLOT):\n",
    "    # highlight (assuming states do not cross)\n",
    "        idx = np.intersect1d(np.where(n_vals == 40), np.where(L_vals == 0))\n",
    "        for i in tqdm(idx, desc='Highlighting'):\n",
    "            ax.plot(field, 0.01*map1[:, i] * En_h /(h * c), c='r', ls='-', lw=1.5)\n",
    "\n",
    "    # format\n",
    "    #ax.set_ylim(-36.25, -36.22)\n",
    "    #ax.set_xlim(0, 0.02)\n",
    "    ax.set_xlabel('Electric field (V cm$^{-1}$)')\n",
    "    ax.set_ylabel('Energy / $h c$ (cm$^{-1}$)')\n",
    "    plt.tight_layout()\n",
    "    # output\n",
    "    if SAVE_STARK_MAP_PLOT==True:\n",
    "        # Create fileaname for Stark map\n",
    "        filename = \"StarkMapPlot_n_\" + str(nmin) + \"-\" + str(nmax) + \\\n",
    "        \"_E_\" + str(np.min(field)).replace('.', '-') + \"_\" + str(np.max(field)).replace('.', '-') + \"_\" + str(len(field)) + \\\n",
    "        \"_B_\" + str(B_z*1E3).replace('.', '-') + \".png\"\n",
    "        # Get images directoy, create it if it doesn't exist\n",
    "        directory = getImagesDir()\n",
    "        # Save Stark map to file\n",
    "        fileout = os.path.join(directory, filename)\n",
    "        plt.savefig(fileout)\n",
    "    plt.show()\n",
    "    plt.show()"
   ]
  },
  {
   "cell_type": "markdown",
   "metadata": {},
   "source": [
    "# Write and Read files"
   ]
  },
  {
   "cell_type": "code",
   "execution_count": 9,
   "metadata": {
    "collapsed": false
   },
   "outputs": [],
   "source": [
    "if SAVE_STARK_MAP_DATA==True:\n",
    "    # Create fileaname for Stark map\n",
    "    filename = \"StarkMapData_n_\" + str(nmin) + \"-\" + str(nmax) + \\\n",
    "    \"_E_\" + str(np.min(field)).replace('.', '-') + \"_\" + str(np.max(field)).replace('.', '-') + \"_\" + str(len(field)) + \\\n",
    "    \"_B_\" + str(B_z*1E3).replace('.', '-')\n",
    "    # Get data directoy, create it if it doesn't exist\n",
    "    directory = getDataDir()\n",
    "    # Save Stark map to file\n",
    "    fileout = os.path.join(directory, filename)\n",
    "    np.save(fileout, map1)"
   ]
  },
  {
   "cell_type": "code",
   "execution_count": null,
   "metadata": {
    "collapsed": true
   },
   "outputs": [],
   "source": []
  }
 ],
 "metadata": {
  "kernelspec": {
   "display_name": "Python 3",
   "language": "python",
   "name": "python3"
  },
  "language_info": {
   "codemirror_mode": {
    "name": "ipython",
    "version": 3
   },
   "file_extension": ".py",
   "mimetype": "text/x-python",
   "name": "python",
   "nbconvert_exporter": "python",
   "pygments_lexer": "ipython3",
   "version": "3.6.0"
  }
 },
 "nbformat": 4,
 "nbformat_minor": 2
}
