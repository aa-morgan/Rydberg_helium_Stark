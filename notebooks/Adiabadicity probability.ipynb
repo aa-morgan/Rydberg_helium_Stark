{
 "cells": [
  {
   "cell_type": "code",
   "execution_count": 9,
   "metadata": {
    "collapsed": true
   },
   "outputs": [],
   "source": [
    "import os\n",
    "import numpy as np\n",
    "import matplotlib.pyplot as plt\n",
    "%matplotlib inline\n",
    "from starkhelium import *\n",
    "from tqdm import trange, tqdm\n",
    "from scipy.constants import h, hbar, c, alpha, m_e, e, epsilon_0, atomic_mass, pi, physical_constants\n",
    "a_0 = physical_constants['Bohr radius'][0]"
   ]
  },
  {
   "cell_type": "markdown",
   "metadata": {},
   "source": [
    "$P_{diabatic} = exp\\left( -\\frac{2 \\pi |V_{ij}|^2}{\\hbar (dE/dF)(dF/dt)} \\right)$\n",
    "where,\n",
    "$V_{ij} = \\frac{E_{min}}{2}$"
   ]
  },
  {
   "cell_type": "code",
   "execution_count": 10,
   "metadata": {
    "collapsed": false
   },
   "outputs": [],
   "source": [
    "E_min = (16.215 * 10**6) * h # E=hf\n",
    "V_ij = E_min / 2\n",
    "\n",
    "dipole_moment_73s = -7.94961 * 10**9 # GHz / (V/cm)\n",
    "dipole_moment_72c = +9.56122 * 10**9 # GHz / (V/cm)\n",
    "\n",
    "dE_dF = (dipole_moment_72c - dipole_moment_73s) * h # E=hf\n",
    "\n",
    "dF = 1 # V/cm\n",
    "dT = np.linspace(1, 1000, 100) * 10**-9 # ns\n",
    "dF_dT = dF / dT\n",
    "\n",
    "p_diabatic = np.exp( -(2*np.pi*np.abs(V_ij)**2) / (hbar*dE_dF*dF_dT) )\n",
    "p_adiabatic = 1 - p_diabatic"
   ]
  },
  {
   "cell_type": "code",
   "execution_count": 11,
   "metadata": {
    "collapsed": false
   },
   "outputs": [
    {
     "data": {
      "image/png": "[encoded data removed]",
      "text/plain": [
       "<matplotlib.figure.Figure at 0x88bfbe0>"
      ]
     },
     "metadata": {},
     "output_type": "display_data"
    }
   ],
   "source": [
    "plt.plot(dT * 10**9, p_diabatic)\n",
    "plt.xlabel('Ramp rate, ns/(V/cm)')\n",
    "plt.ylabel('$P_{diabatic}$')\n",
    "plt.grid()"
   ]
  },
  {
   "cell_type": "code",
   "execution_count": null,
   "metadata": {
    "collapsed": true
   },
   "outputs": [],
   "source": []
  }
 ],
 "metadata": {
  "kernelspec": {
   "display_name": "Python 3",
   "language": "python",
   "name": "python3"
  },
  "language_info": {
   "codemirror_mode": {
    "name": "ipython",
    "version": 3
   },
   "file_extension": ".py",
   "mimetype": "text/x-python",
   "name": "python",
   "nbconvert_exporter": "python",
   "pygments_lexer": "ipython3",
   "version": "3.6.0"
  }
 },
 "nbformat": 4,
 "nbformat_minor": 2
}
